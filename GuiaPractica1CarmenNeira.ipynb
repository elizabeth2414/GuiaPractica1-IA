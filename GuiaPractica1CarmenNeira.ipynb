{
 "cells": [
  {
   "cell_type": "markdown",
   "metadata": {},
   "source": [
    "Proyecto: Análisis de Datos con Python\n",
    "Nombre: Carmen Elizabeth Neira \n",
    "Curso: N6A\n",
    "Materia: Inteligencia Artificial"
   ]
  },
  {
   "cell_type": "markdown",
   "metadata": {},
   "source": [
    "1. Importar librerías"
   ]
  },
  {
   "cell_type": "code",
   "execution_count": 6,
   "metadata": {},
   "outputs": [],
   "source": [
    "#Para el funcionamiento del poryecto importamos las siguientes librerías.\n",
    "import pandas as pd\n",
    "import plotly.express as px\n",
    "import sqlite3\n",
    "import os\n"
   ]
  },
  {
   "cell_type": "markdown",
   "metadata": {},
   "source": [
    "2. Conectar o crear base de datos SQLite"
   ]
  },
  {
   "cell_type": "code",
   "execution_count": 7,
   "metadata": {},
   "outputs": [],
   "source": [
    "# Crear (o conectar a) una base de datos SQLite llamada 'estudiantes.db'\n",
    "# y definir la tabla 'estudiante' si no existe aún\n",
    "conn = sqlite3.connect(\"estudiantes.db\")\n",
    "cursor = conn.cursor()\n",
    "cursor.execute(\"\"\"\n",
    "    CREATE TABLE IF NOT EXISTS estudiante (\n",
    "        id INTEGER PRIMARY KEY AUTOINCREMENT,\n",
    "        nombre TEXT,\n",
    "        apellido TEXT,\n",
    "        curso TEXT,\n",
    "        materia TEXT\n",
    "    )\n",
    "\"\"\")\n",
    "conn.commit()\n"
   ]
  },
  {
   "cell_type": "markdown",
   "metadata": {},
   "source": [
    "3. Registrar datos del estudiante"
   ]
  },
  {
   "cell_type": "code",
   "execution_count": 8,
   "metadata": {},
   "outputs": [],
   "source": [
    "# Simulación de entrada manual\n",
    "nombre = \"Carmen\"\n",
    "apellido = \"Neira\"\n",
    "curso = \"N6A\"\n",
    "materia = \"Inteligencia Artificial\"\n",
    "\n",
    "cursor.execute(\"INSERT INTO estudiante (nombre, apellido, curso, materia) VALUES (?, ?, ?, ?)\",\n",
    "               (nombre, apellido, curso, materia))\n",
    "conn.commit()\n"
   ]
  },
  {
   "cell_type": "markdown",
   "metadata": {},
   "source": [
    "4. Mostrar último registro"
   ]
  },
  {
   "cell_type": "code",
   "execution_count": 31,
   "metadata": {},
   "outputs": [
    {
     "data": {
      "text/plain": [
       "('Carmen', 'Neira', 'N6A', 'Inteligencia Artificial')"
      ]
     },
     "execution_count": 31,
     "metadata": {},
     "output_type": "execute_result"
    }
   ],
   "source": [
    "# Ejecutar una consulta SQL para obtener el último registro ingresado\n",
    "cursor.execute(\"SELECT nombre, apellido, curso, materia FROM estudiante ORDER BY id DESC LIMIT 1\")\n",
    "# Obtener ese único registro como una tupla\n",
    "registro = cursor.fetchone()\n",
    "# Mostrar el resultado\n",
    "registro\n"
   ]
  },
  {
   "cell_type": "markdown",
   "metadata": {},
   "source": [
    "5. Listar archivos CSV disponibles"
   ]
  },
  {
   "cell_type": "code",
   "execution_count": 32,
   "metadata": {},
   "outputs": [],
   "source": [
    "# Lista de archivos CSV que contienen datos por componente OCDS\n",
    "# Cada archivo representa un aspecto del proceso de contratación pública en 2025\n",
    "archivos_csv = [\n",
    "    \"awards_2025_bienes_y_servicios_unicos.csv\",     # Adjudicaciones\n",
    "    \"contracts_2025_bienes_y_servicios_unicos.csv\",  # Contratos\n",
    "    \"extensions_2025_bienes_y_servicios_unicos.csv\", # Extensiones (si aplica)\n",
    "    \"metadata_2025_bienes_y_servicios_unicos.csv\",   # Información técnica del conjunto de datos\n",
    "    \"planning_2025_bienes_y_servicios_unicos.csv\",   # Planificación previa\n",
    "    \"releases_2025_bienes_y_servicios_unicos.csv\",   # Publicaciones completas\n",
    "    \"suppliers_2025_bienes_y_servicios_unicos.csv\",  # Proveedores\n",
    "    \"tender_2025_bienes_y_servicios_unicos.csv\"      # Licitaciones\n",
    "]\n"
   ]
  },
  {
   "cell_type": "markdown",
   "metadata": {},
   "source": [
    "6. Cargar todos los CSV"
   ]
  },
  {
   "cell_type": "code",
   "execution_count": 33,
   "metadata": {},
   "outputs": [
    {
     "data": {
      "text/html": [
       "<div>\n",
       "<style scoped>\n",
       "    .dataframe tbody tr th:only-of-type {\n",
       "        vertical-align: middle;\n",
       "    }\n",
       "\n",
       "    .dataframe tbody tr th {\n",
       "        vertical-align: top;\n",
       "    }\n",
       "\n",
       "    .dataframe thead th {\n",
       "        text-align: right;\n",
       "    }\n",
       "</style>\n",
       "<table border=\"1\" class=\"dataframe\">\n",
       "  <thead>\n",
       "    <tr style=\"text-align: right;\">\n",
       "      <th></th>\n",
       "      <th>ocid</th>\n",
       "      <th>release_id</th>\n",
       "      <th>id</th>\n",
       "      <th>title</th>\n",
       "      <th>description</th>\n",
       "      <th>status</th>\n",
       "      <th>date</th>\n",
       "      <th>amount</th>\n",
       "      <th>currency</th>\n",
       "      <th>correctedValue_amount</th>\n",
       "      <th>...</th>\n",
       "      <th>enquiryPeriod_endDate</th>\n",
       "      <th>enquiryPeriod_maxExtentDate</th>\n",
       "      <th>enquiryPeriod_durationInDays</th>\n",
       "      <th>hasEnquiries</th>\n",
       "      <th>eligibilityCriteria</th>\n",
       "      <th>awardPeriod_startDate</th>\n",
       "      <th>awardPeriod_endDate</th>\n",
       "      <th>awardPeriod_maxExtentDate</th>\n",
       "      <th>awardPeriod_durationInDays</th>\n",
       "      <th>numberOfTenderers</th>\n",
       "    </tr>\n",
       "  </thead>\n",
       "  <tbody>\n",
       "    <tr>\n",
       "      <th>0</th>\n",
       "      <td>ocds-5wno2w-RE-PU-CELECEP-2025-04197-238940</td>\n",
       "      <td>RE-PU-CELECEP-2025-04197-238940-2025-07-16T16:...</td>\n",
       "      <td>8150503-RE-PU-CELECEP-2025-04197</td>\n",
       "      <td>NaN</td>\n",
       "      <td>Ver detalle completo en documento adjunto.</td>\n",
       "      <td>NaN</td>\n",
       "      <td>2025-06-18T10:39:52-05:00</td>\n",
       "      <td>46513.35</td>\n",
       "      <td>USD</td>\n",
       "      <td>NaN</td>\n",
       "      <td>...</td>\n",
       "      <td>NaN</td>\n",
       "      <td>NaN</td>\n",
       "      <td>NaN</td>\n",
       "      <td>NaN</td>\n",
       "      <td>NaN</td>\n",
       "      <td>NaN</td>\n",
       "      <td>NaN</td>\n",
       "      <td>NaN</td>\n",
       "      <td>NaN</td>\n",
       "      <td>NaN</td>\n",
       "    </tr>\n",
       "    <tr>\n",
       "      <th>1</th>\n",
       "      <td>ocds-5wno2w-RE-PU-EPP-2025-004-253178</td>\n",
       "      <td>RE-PU-EPP-2025-004-253178-2025-07-23T17:00:37....</td>\n",
       "      <td>8152341-RE-PU-EPP-2025-004</td>\n",
       "      <td>NaN</td>\n",
       "      <td>CUMLE CON LAS CONDICIONES ESTABLECIDS EN EL PL...</td>\n",
       "      <td>NaN</td>\n",
       "      <td>2025-06-23T17:30:49-05:00</td>\n",
       "      <td>494860.33</td>\n",
       "      <td>USD</td>\n",
       "      <td>NaN</td>\n",
       "      <td>...</td>\n",
       "      <td>NaN</td>\n",
       "      <td>NaN</td>\n",
       "      <td>NaN</td>\n",
       "      <td>NaN</td>\n",
       "      <td>NaN</td>\n",
       "      <td>NaN</td>\n",
       "      <td>NaN</td>\n",
       "      <td>NaN</td>\n",
       "      <td>NaN</td>\n",
       "      <td>NaN</td>\n",
       "    </tr>\n",
       "    <tr>\n",
       "      <th>2</th>\n",
       "      <td>ocds-5wno2w-RE-PU-DHG-2025-008-5702</td>\n",
       "      <td>RE-PU-DHG-2025-008-5702-2025-07-03T17:28:58.09...</td>\n",
       "      <td>8152328-RE-PU-DHG-2025-008</td>\n",
       "      <td>NaN</td>\n",
       "      <td>Por cumplir con los requisitos establecidos en...</td>\n",
       "      <td>NaN</td>\n",
       "      <td>2025-06-12T15:55:43-05:00</td>\n",
       "      <td>41051.26</td>\n",
       "      <td>USD</td>\n",
       "      <td>NaN</td>\n",
       "      <td>...</td>\n",
       "      <td>NaN</td>\n",
       "      <td>NaN</td>\n",
       "      <td>NaN</td>\n",
       "      <td>NaN</td>\n",
       "      <td>NaN</td>\n",
       "      <td>NaN</td>\n",
       "      <td>NaN</td>\n",
       "      <td>NaN</td>\n",
       "      <td>NaN</td>\n",
       "      <td>NaN</td>\n",
       "    </tr>\n",
       "    <tr>\n",
       "      <th>3</th>\n",
       "      <td>ocds-5wno2w-RE-PU-HEJCA-2025-047-87497</td>\n",
       "      <td>RE-PU-HEJCA-2025-047-87497-2025-07-02T17:40:01...</td>\n",
       "      <td>8140328-RE-PU-HEJCA-2025-047</td>\n",
       "      <td>NaN</td>\n",
       "      <td>Por cumplir con todos los requisitos solicitad...</td>\n",
       "      <td>NaN</td>\n",
       "      <td>2025-06-17T16:13:44-05:00</td>\n",
       "      <td>20141.94</td>\n",
       "      <td>USD</td>\n",
       "      <td>NaN</td>\n",
       "      <td>...</td>\n",
       "      <td>NaN</td>\n",
       "      <td>NaN</td>\n",
       "      <td>NaN</td>\n",
       "      <td>NaN</td>\n",
       "      <td>NaN</td>\n",
       "      <td>NaN</td>\n",
       "      <td>NaN</td>\n",
       "      <td>NaN</td>\n",
       "      <td>NaN</td>\n",
       "      <td>NaN</td>\n",
       "    </tr>\n",
       "    <tr>\n",
       "      <th>4</th>\n",
       "      <td>ocds-5wno2w-RE-PU-GADG-2025-002-2620</td>\n",
       "      <td>RE-PU-GADG-2025-002-2620-2025-07-09T17:50:16.9...</td>\n",
       "      <td>8152892-RE-PU-GADG-2025-002</td>\n",
       "      <td>NaN</td>\n",
       "      <td>Cumple con los requisitos solicitados en los p...</td>\n",
       "      <td>NaN</td>\n",
       "      <td>2025-06-17T16:45:11-05:00</td>\n",
       "      <td>22096.26</td>\n",
       "      <td>USD</td>\n",
       "      <td>NaN</td>\n",
       "      <td>...</td>\n",
       "      <td>NaN</td>\n",
       "      <td>NaN</td>\n",
       "      <td>NaN</td>\n",
       "      <td>NaN</td>\n",
       "      <td>NaN</td>\n",
       "      <td>NaN</td>\n",
       "      <td>NaN</td>\n",
       "      <td>NaN</td>\n",
       "      <td>NaN</td>\n",
       "      <td>NaN</td>\n",
       "    </tr>\n",
       "  </tbody>\n",
       "</table>\n",
       "<p>5 rows × 64 columns</p>\n",
       "</div>"
      ],
      "text/plain": [
       "                                          ocid  \\\n",
       "0  ocds-5wno2w-RE-PU-CELECEP-2025-04197-238940   \n",
       "1        ocds-5wno2w-RE-PU-EPP-2025-004-253178   \n",
       "2          ocds-5wno2w-RE-PU-DHG-2025-008-5702   \n",
       "3       ocds-5wno2w-RE-PU-HEJCA-2025-047-87497   \n",
       "4         ocds-5wno2w-RE-PU-GADG-2025-002-2620   \n",
       "\n",
       "                                          release_id  \\\n",
       "0  RE-PU-CELECEP-2025-04197-238940-2025-07-16T16:...   \n",
       "1  RE-PU-EPP-2025-004-253178-2025-07-23T17:00:37....   \n",
       "2  RE-PU-DHG-2025-008-5702-2025-07-03T17:28:58.09...   \n",
       "3  RE-PU-HEJCA-2025-047-87497-2025-07-02T17:40:01...   \n",
       "4  RE-PU-GADG-2025-002-2620-2025-07-09T17:50:16.9...   \n",
       "\n",
       "                                 id title  \\\n",
       "0  8150503-RE-PU-CELECEP-2025-04197   NaN   \n",
       "1        8152341-RE-PU-EPP-2025-004   NaN   \n",
       "2        8152328-RE-PU-DHG-2025-008   NaN   \n",
       "3      8140328-RE-PU-HEJCA-2025-047   NaN   \n",
       "4       8152892-RE-PU-GADG-2025-002   NaN   \n",
       "\n",
       "                                         description status  \\\n",
       "0         Ver detalle completo en documento adjunto.    NaN   \n",
       "1  CUMLE CON LAS CONDICIONES ESTABLECIDS EN EL PL...    NaN   \n",
       "2  Por cumplir con los requisitos establecidos en...    NaN   \n",
       "3  Por cumplir con todos los requisitos solicitad...    NaN   \n",
       "4  Cumple con los requisitos solicitados en los p...    NaN   \n",
       "\n",
       "                        date     amount currency  correctedValue_amount  ...  \\\n",
       "0  2025-06-18T10:39:52-05:00   46513.35      USD                    NaN  ...   \n",
       "1  2025-06-23T17:30:49-05:00  494860.33      USD                    NaN  ...   \n",
       "2  2025-06-12T15:55:43-05:00   41051.26      USD                    NaN  ...   \n",
       "3  2025-06-17T16:13:44-05:00   20141.94      USD                    NaN  ...   \n",
       "4  2025-06-17T16:45:11-05:00   22096.26      USD                    NaN  ...   \n",
       "\n",
       "   enquiryPeriod_endDate  enquiryPeriod_maxExtentDate  \\\n",
       "0                    NaN                          NaN   \n",
       "1                    NaN                          NaN   \n",
       "2                    NaN                          NaN   \n",
       "3                    NaN                          NaN   \n",
       "4                    NaN                          NaN   \n",
       "\n",
       "   enquiryPeriod_durationInDays hasEnquiries eligibilityCriteria  \\\n",
       "0                           NaN          NaN                 NaN   \n",
       "1                           NaN          NaN                 NaN   \n",
       "2                           NaN          NaN                 NaN   \n",
       "3                           NaN          NaN                 NaN   \n",
       "4                           NaN          NaN                 NaN   \n",
       "\n",
       "   awardPeriod_startDate  awardPeriod_endDate awardPeriod_maxExtentDate  \\\n",
       "0                    NaN                  NaN                       NaN   \n",
       "1                    NaN                  NaN                       NaN   \n",
       "2                    NaN                  NaN                       NaN   \n",
       "3                    NaN                  NaN                       NaN   \n",
       "4                    NaN                  NaN                       NaN   \n",
       "\n",
       "  awardPeriod_durationInDays numberOfTenderers  \n",
       "0                        NaN               NaN  \n",
       "1                        NaN               NaN  \n",
       "2                        NaN               NaN  \n",
       "3                        NaN               NaN  \n",
       "4                        NaN               NaN  \n",
       "\n",
       "[5 rows x 64 columns]"
      ]
     },
     "execution_count": 33,
     "metadata": {},
     "output_type": "execute_result"
    }
   ],
   "source": [
    "# Crear una lista vacía para almacenar los DataFrames cargados\n",
    "df_list = []\n",
    "\n",
    "# Recorrer la lista de archivos CSV y cargar solo los que existen\n",
    "for archivo in archivos_csv:\n",
    "    if os.path.exists(archivo):\n",
    "        df_list.append(pd.read_csv(archivo))  # Cargar el archivo y agregarlo a la lista\n",
    "    else:\n",
    "        print(f\"Archivo no encontrado: {archivo}\")  # Avisar si el archivo no está disponible\n",
    "\n",
    "# Combinar todos los DataFrames en uno solo\n",
    "df = pd.concat(df_list, ignore_index=True)\n",
    "\n",
    "# Mostrar las primeras filas del DataFrame combinado\n",
    "df.head()\n"
   ]
  },
  {
   "cell_type": "markdown",
   "metadata": {},
   "source": [
    "7. Aplicar filtros"
   ]
  },
  {
   "cell_type": "code",
   "execution_count": 12,
   "metadata": {},
   "outputs": [
    {
     "data": {
      "text/html": [
       "<div>\n",
       "<style scoped>\n",
       "    .dataframe tbody tr th:only-of-type {\n",
       "        vertical-align: middle;\n",
       "    }\n",
       "\n",
       "    .dataframe tbody tr th {\n",
       "        vertical-align: top;\n",
       "    }\n",
       "\n",
       "    .dataframe thead th {\n",
       "        text-align: right;\n",
       "    }\n",
       "</style>\n",
       "<table border=\"1\" class=\"dataframe\">\n",
       "  <thead>\n",
       "    <tr style=\"text-align: right;\">\n",
       "      <th></th>\n",
       "      <th>ocid</th>\n",
       "      <th>release_id</th>\n",
       "      <th>id</th>\n",
       "      <th>title</th>\n",
       "      <th>description</th>\n",
       "      <th>status</th>\n",
       "      <th>date</th>\n",
       "      <th>amount</th>\n",
       "      <th>currency</th>\n",
       "      <th>correctedValue_amount</th>\n",
       "      <th>...</th>\n",
       "      <th>enquiryPeriod_endDate</th>\n",
       "      <th>enquiryPeriod_maxExtentDate</th>\n",
       "      <th>enquiryPeriod_durationInDays</th>\n",
       "      <th>hasEnquiries</th>\n",
       "      <th>eligibilityCriteria</th>\n",
       "      <th>awardPeriod_startDate</th>\n",
       "      <th>awardPeriod_endDate</th>\n",
       "      <th>awardPeriod_maxExtentDate</th>\n",
       "      <th>awardPeriod_durationInDays</th>\n",
       "      <th>numberOfTenderers</th>\n",
       "    </tr>\n",
       "  </thead>\n",
       "  <tbody>\n",
       "    <tr>\n",
       "      <th>0</th>\n",
       "      <td>ocds-5wno2w-RE-PU-CELECEP-2025-04197-238940</td>\n",
       "      <td>RE-PU-CELECEP-2025-04197-238940-2025-07-16T16:...</td>\n",
       "      <td>8150503-RE-PU-CELECEP-2025-04197</td>\n",
       "      <td>NaN</td>\n",
       "      <td>Ver detalle completo en documento adjunto.</td>\n",
       "      <td>NaN</td>\n",
       "      <td>2025-06-18T10:39:52-05:00</td>\n",
       "      <td>46513.35</td>\n",
       "      <td>USD</td>\n",
       "      <td>NaN</td>\n",
       "      <td>...</td>\n",
       "      <td>NaN</td>\n",
       "      <td>NaN</td>\n",
       "      <td>NaN</td>\n",
       "      <td>NaN</td>\n",
       "      <td>NaN</td>\n",
       "      <td>NaN</td>\n",
       "      <td>NaN</td>\n",
       "      <td>NaN</td>\n",
       "      <td>NaN</td>\n",
       "      <td>NaN</td>\n",
       "    </tr>\n",
       "    <tr>\n",
       "      <th>1</th>\n",
       "      <td>ocds-5wno2w-RE-PU-EPP-2025-004-253178</td>\n",
       "      <td>RE-PU-EPP-2025-004-253178-2025-07-23T17:00:37....</td>\n",
       "      <td>8152341-RE-PU-EPP-2025-004</td>\n",
       "      <td>NaN</td>\n",
       "      <td>CUMLE CON LAS CONDICIONES ESTABLECIDS EN EL PL...</td>\n",
       "      <td>NaN</td>\n",
       "      <td>2025-06-23T17:30:49-05:00</td>\n",
       "      <td>494860.33</td>\n",
       "      <td>USD</td>\n",
       "      <td>NaN</td>\n",
       "      <td>...</td>\n",
       "      <td>NaN</td>\n",
       "      <td>NaN</td>\n",
       "      <td>NaN</td>\n",
       "      <td>NaN</td>\n",
       "      <td>NaN</td>\n",
       "      <td>NaN</td>\n",
       "      <td>NaN</td>\n",
       "      <td>NaN</td>\n",
       "      <td>NaN</td>\n",
       "      <td>NaN</td>\n",
       "    </tr>\n",
       "    <tr>\n",
       "      <th>2</th>\n",
       "      <td>ocds-5wno2w-RE-PU-DHG-2025-008-5702</td>\n",
       "      <td>RE-PU-DHG-2025-008-5702-2025-07-03T17:28:58.09...</td>\n",
       "      <td>8152328-RE-PU-DHG-2025-008</td>\n",
       "      <td>NaN</td>\n",
       "      <td>Por cumplir con los requisitos establecidos en...</td>\n",
       "      <td>NaN</td>\n",
       "      <td>2025-06-12T15:55:43-05:00</td>\n",
       "      <td>41051.26</td>\n",
       "      <td>USD</td>\n",
       "      <td>NaN</td>\n",
       "      <td>...</td>\n",
       "      <td>NaN</td>\n",
       "      <td>NaN</td>\n",
       "      <td>NaN</td>\n",
       "      <td>NaN</td>\n",
       "      <td>NaN</td>\n",
       "      <td>NaN</td>\n",
       "      <td>NaN</td>\n",
       "      <td>NaN</td>\n",
       "      <td>NaN</td>\n",
       "      <td>NaN</td>\n",
       "    </tr>\n",
       "    <tr>\n",
       "      <th>3</th>\n",
       "      <td>ocds-5wno2w-RE-PU-HEJCA-2025-047-87497</td>\n",
       "      <td>RE-PU-HEJCA-2025-047-87497-2025-07-02T17:40:01...</td>\n",
       "      <td>8140328-RE-PU-HEJCA-2025-047</td>\n",
       "      <td>NaN</td>\n",
       "      <td>Por cumplir con todos los requisitos solicitad...</td>\n",
       "      <td>NaN</td>\n",
       "      <td>2025-06-17T16:13:44-05:00</td>\n",
       "      <td>20141.94</td>\n",
       "      <td>USD</td>\n",
       "      <td>NaN</td>\n",
       "      <td>...</td>\n",
       "      <td>NaN</td>\n",
       "      <td>NaN</td>\n",
       "      <td>NaN</td>\n",
       "      <td>NaN</td>\n",
       "      <td>NaN</td>\n",
       "      <td>NaN</td>\n",
       "      <td>NaN</td>\n",
       "      <td>NaN</td>\n",
       "      <td>NaN</td>\n",
       "      <td>NaN</td>\n",
       "    </tr>\n",
       "    <tr>\n",
       "      <th>4</th>\n",
       "      <td>ocds-5wno2w-RE-PU-GADG-2025-002-2620</td>\n",
       "      <td>RE-PU-GADG-2025-002-2620-2025-07-09T17:50:16.9...</td>\n",
       "      <td>8152892-RE-PU-GADG-2025-002</td>\n",
       "      <td>NaN</td>\n",
       "      <td>Cumple con los requisitos solicitados en los p...</td>\n",
       "      <td>NaN</td>\n",
       "      <td>2025-06-17T16:45:11-05:00</td>\n",
       "      <td>22096.26</td>\n",
       "      <td>USD</td>\n",
       "      <td>NaN</td>\n",
       "      <td>...</td>\n",
       "      <td>NaN</td>\n",
       "      <td>NaN</td>\n",
       "      <td>NaN</td>\n",
       "      <td>NaN</td>\n",
       "      <td>NaN</td>\n",
       "      <td>NaN</td>\n",
       "      <td>NaN</td>\n",
       "      <td>NaN</td>\n",
       "      <td>NaN</td>\n",
       "      <td>NaN</td>\n",
       "    </tr>\n",
       "  </tbody>\n",
       "</table>\n",
       "<p>5 rows × 64 columns</p>\n",
       "</div>"
      ],
      "text/plain": [
       "                                          ocid  \\\n",
       "0  ocds-5wno2w-RE-PU-CELECEP-2025-04197-238940   \n",
       "1        ocds-5wno2w-RE-PU-EPP-2025-004-253178   \n",
       "2          ocds-5wno2w-RE-PU-DHG-2025-008-5702   \n",
       "3       ocds-5wno2w-RE-PU-HEJCA-2025-047-87497   \n",
       "4         ocds-5wno2w-RE-PU-GADG-2025-002-2620   \n",
       "\n",
       "                                          release_id  \\\n",
       "0  RE-PU-CELECEP-2025-04197-238940-2025-07-16T16:...   \n",
       "1  RE-PU-EPP-2025-004-253178-2025-07-23T17:00:37....   \n",
       "2  RE-PU-DHG-2025-008-5702-2025-07-03T17:28:58.09...   \n",
       "3  RE-PU-HEJCA-2025-047-87497-2025-07-02T17:40:01...   \n",
       "4  RE-PU-GADG-2025-002-2620-2025-07-09T17:50:16.9...   \n",
       "\n",
       "                                 id title  \\\n",
       "0  8150503-RE-PU-CELECEP-2025-04197   NaN   \n",
       "1        8152341-RE-PU-EPP-2025-004   NaN   \n",
       "2        8152328-RE-PU-DHG-2025-008   NaN   \n",
       "3      8140328-RE-PU-HEJCA-2025-047   NaN   \n",
       "4       8152892-RE-PU-GADG-2025-002   NaN   \n",
       "\n",
       "                                         description status  \\\n",
       "0         Ver detalle completo en documento adjunto.    NaN   \n",
       "1  CUMLE CON LAS CONDICIONES ESTABLECIDS EN EL PL...    NaN   \n",
       "2  Por cumplir con los requisitos establecidos en...    NaN   \n",
       "3  Por cumplir con todos los requisitos solicitad...    NaN   \n",
       "4  Cumple con los requisitos solicitados en los p...    NaN   \n",
       "\n",
       "                        date     amount currency  correctedValue_amount  ...  \\\n",
       "0  2025-06-18T10:39:52-05:00   46513.35      USD                    NaN  ...   \n",
       "1  2025-06-23T17:30:49-05:00  494860.33      USD                    NaN  ...   \n",
       "2  2025-06-12T15:55:43-05:00   41051.26      USD                    NaN  ...   \n",
       "3  2025-06-17T16:13:44-05:00   20141.94      USD                    NaN  ...   \n",
       "4  2025-06-17T16:45:11-05:00   22096.26      USD                    NaN  ...   \n",
       "\n",
       "   enquiryPeriod_endDate  enquiryPeriod_maxExtentDate  \\\n",
       "0                    NaN                          NaN   \n",
       "1                    NaN                          NaN   \n",
       "2                    NaN                          NaN   \n",
       "3                    NaN                          NaN   \n",
       "4                    NaN                          NaN   \n",
       "\n",
       "   enquiryPeriod_durationInDays hasEnquiries eligibilityCriteria  \\\n",
       "0                           NaN          NaN                 NaN   \n",
       "1                           NaN          NaN                 NaN   \n",
       "2                           NaN          NaN                 NaN   \n",
       "3                           NaN          NaN                 NaN   \n",
       "4                           NaN          NaN                 NaN   \n",
       "\n",
       "   awardPeriod_startDate  awardPeriod_endDate awardPeriod_maxExtentDate  \\\n",
       "0                    NaN                  NaN                       NaN   \n",
       "1                    NaN                  NaN                       NaN   \n",
       "2                    NaN                  NaN                       NaN   \n",
       "3                    NaN                  NaN                       NaN   \n",
       "4                    NaN                  NaN                       NaN   \n",
       "\n",
       "  awardPeriod_durationInDays numberOfTenderers  \n",
       "0                        NaN               NaN  \n",
       "1                        NaN               NaN  \n",
       "2                        NaN               NaN  \n",
       "3                        NaN               NaN  \n",
       "4                        NaN               NaN  \n",
       "\n",
       "[5 rows x 64 columns]"
      ]
     },
     "execution_count": 12,
     "metadata": {},
     "output_type": "execute_result"
    }
   ],
   "source": [
    "# Simulación de filtros\n",
    "anio_fijo = 2025\n",
    "provincia_fija = \"Azuay\"\n",
    "tipo_fijo = \"Servicios\"\n",
    "\n",
    "if \"año\" in df.columns:\n",
    "    df = df[df[\"año\"] == anio_fijo]\n",
    "if \"provincia\" in df.columns:\n",
    "    df = df[df[\"provincia\"] == provincia_fija]\n",
    "if \"tipo\" in df.columns:\n",
    "    df = df[df[\"tipo\"] == tipo_fijo]\n",
    "\n",
    "df.head()\n"
   ]
  },
  {
   "cell_type": "markdown",
   "metadata": {},
   "source": [
    "8. Visualización adaptativa"
   ]
  },
  {
   "cell_type": "code",
   "execution_count": 34,
   "metadata": {},
   "outputs": [
    {
     "name": "stdout",
     "output_type": "stream",
     "text": [
      "Columnas disponibles: ['ocid', 'release_id', 'id', 'title', 'description', 'status', 'date', 'amount', 'currency', 'correctedValue_amount', 'correctedValue_currency', 'enteredValue_amount', 'enteredValue_currency', 'contractPeriod_startDate', 'contractPeriod_endDate', 'contractPeriod_maxExtentDate', 'contractPeriod_durationInDays', 'awardID', 'dateSigned', 'extension', 'Uri', 'Version', 'PublisherName', 'PublisherScheme', 'PublisherUid', 'PublisherUri', 'License', 'PublicationPolicy', 'PublishedDate', 'rationale', 'budget_id', 'budget_description', 'budget_amount', 'budget_currency', 'initiationType', 'buyer_id', 'buyer_name', 'language', 'tag', 'award_id', 'name', 'procuringEntity_id', 'procuringEntity_name', 'value_amount', 'value_currency', 'procurementMethod', 'procurementMethodDetails', 'mainProcurementCategory', 'awardCriteria', 'tenderPeriod_startDate', 'tenderPeriod_endDate', 'tenderPeriod_maxExtentDate', 'tenderPeriod_durationInDays', 'enquiryPeriod_startDate', 'enquiryPeriod_endDate', 'enquiryPeriod_maxExtentDate', 'enquiryPeriod_durationInDays', 'hasEnquiries', 'eligibilityCriteria', 'awardPeriod_startDate', 'awardPeriod_endDate', 'awardPeriod_maxExtentDate', 'awardPeriod_durationInDays', 'numberOfTenderers']\n"
     ]
    }
   ],
   "source": [
    "# Mostrar en pantalla la lista de columnas disponibles en el DataFrame\n",
    "print(\"Columnas disponibles:\", df.columns.tolist())\n"
   ]
  },
  {
   "cell_type": "code",
   "execution_count": 35,
   "metadata": {},
   "outputs": [],
   "source": [
    "# Comando para actualizar la librería 'nbformat', que gestiona la estructura de notebooks (.ipynb)\n",
    "#!pip install nbformat --upgrade"
   ]
  },
  {
   "cell_type": "code",
   "execution_count": 36,
   "metadata": {},
   "outputs": [
    {
     "name": "stdout",
     "output_type": "stream",
     "text": [
      "                                          ocid  \\\n",
      "0  ocds-5wno2w-RE-PU-CELECEP-2025-04197-238940   \n",
      "1        ocds-5wno2w-RE-PU-EPP-2025-004-253178   \n",
      "2          ocds-5wno2w-RE-PU-DHG-2025-008-5702   \n",
      "3       ocds-5wno2w-RE-PU-HEJCA-2025-047-87497   \n",
      "4         ocds-5wno2w-RE-PU-GADG-2025-002-2620   \n",
      "\n",
      "                                          release_id  \\\n",
      "0  RE-PU-CELECEP-2025-04197-238940-2025-07-16T16:...   \n",
      "1  RE-PU-EPP-2025-004-253178-2025-07-23T17:00:37....   \n",
      "2  RE-PU-DHG-2025-008-5702-2025-07-03T17:28:58.09...   \n",
      "3  RE-PU-HEJCA-2025-047-87497-2025-07-02T17:40:01...   \n",
      "4  RE-PU-GADG-2025-002-2620-2025-07-09T17:50:16.9...   \n",
      "\n",
      "                                 id title  \\\n",
      "0  8150503-RE-PU-CELECEP-2025-04197   NaN   \n",
      "1        8152341-RE-PU-EPP-2025-004   NaN   \n",
      "2        8152328-RE-PU-DHG-2025-008   NaN   \n",
      "3      8140328-RE-PU-HEJCA-2025-047   NaN   \n",
      "4       8152892-RE-PU-GADG-2025-002   NaN   \n",
      "\n",
      "                                         description status  \\\n",
      "0         Ver detalle completo en documento adjunto.    NaN   \n",
      "1  CUMLE CON LAS CONDICIONES ESTABLECIDS EN EL PL...    NaN   \n",
      "2  Por cumplir con los requisitos establecidos en...    NaN   \n",
      "3  Por cumplir con todos los requisitos solicitad...    NaN   \n",
      "4  Cumple con los requisitos solicitados en los p...    NaN   \n",
      "\n",
      "                        date     amount currency  correctedValue_amount  ...  \\\n",
      "0  2025-06-18T10:39:52-05:00   46513.35      USD                    NaN  ...   \n",
      "1  2025-06-23T17:30:49-05:00  494860.33      USD                    NaN  ...   \n",
      "2  2025-06-12T15:55:43-05:00   41051.26      USD                    NaN  ...   \n",
      "3  2025-06-17T16:13:44-05:00   20141.94      USD                    NaN  ...   \n",
      "4  2025-06-17T16:45:11-05:00   22096.26      USD                    NaN  ...   \n",
      "\n",
      "   enquiryPeriod_endDate  enquiryPeriod_maxExtentDate  \\\n",
      "0                    NaN                          NaN   \n",
      "1                    NaN                          NaN   \n",
      "2                    NaN                          NaN   \n",
      "3                    NaN                          NaN   \n",
      "4                    NaN                          NaN   \n",
      "\n",
      "   enquiryPeriod_durationInDays hasEnquiries eligibilityCriteria  \\\n",
      "0                           NaN          NaN                 NaN   \n",
      "1                           NaN          NaN                 NaN   \n",
      "2                           NaN          NaN                 NaN   \n",
      "3                           NaN          NaN                 NaN   \n",
      "4                           NaN          NaN                 NaN   \n",
      "\n",
      "   awardPeriod_startDate  awardPeriod_endDate awardPeriod_maxExtentDate  \\\n",
      "0                    NaN                  NaN                       NaN   \n",
      "1                    NaN                  NaN                       NaN   \n",
      "2                    NaN                  NaN                       NaN   \n",
      "3                    NaN                  NaN                       NaN   \n",
      "4                    NaN                  NaN                       NaN   \n",
      "\n",
      "  awardPeriod_durationInDays numberOfTenderers  \n",
      "0                        NaN               NaN  \n",
      "1                        NaN               NaN  \n",
      "2                        NaN               NaN  \n",
      "3                        NaN               NaN  \n",
      "4                        NaN               NaN  \n",
      "\n",
      "[5 rows x 64 columns]\n"
     ]
    }
   ],
   "source": [
    "# Mostrar las primeras 5 filas del DataFrame para revisar su estructura y contenido\n",
    "print(df.head())\n"
   ]
  },
  {
   "cell_type": "markdown",
   "metadata": {},
   "source": [
    "9. Datos Filtrados y Descarga"
   ]
  },
  {
   "cell_type": "code",
   "execution_count": 19,
   "metadata": {},
   "outputs": [
    {
     "name": "stdout",
     "output_type": "stream",
     "text": [
      "Cargado: awards_2025_bienes_y_servicios_unicos.csv\n",
      "Cargado: contracts_2025_bienes_y_servicios_unicos.csv\n",
      "Cargado: extensions_2025_bienes_y_servicios_unicos.csv\n",
      "Cargado: metadata_2025_bienes_y_servicios_unicos.csv\n",
      "Cargado: planning_2025_bienes_y_servicios_unicos.csv\n",
      "Cargado: releases_2025_bienes_y_servicios_unicos.csv\n",
      "Cargado: suppliers_2025_bienes_y_servicios_unicos.csv\n",
      "Cargado: tender_2025_bienes_y_servicios_unicos.csv\n"
     ]
    }
   ],
   "source": [
    "# Cargar todos los archivos en un diccionario\n",
    "datos = {}\n",
    "for archivo in archivos_csv:\n",
    "    nombre = archivo.split(\"_\")[0]  # Extrae 'awards', 'contracts', etc.\n",
    "    try:\n",
    "        datos[nombre] = pd.read_csv(archivo)\n",
    "        print(f\"Cargado: {archivo}\")\n",
    "    except FileNotFoundError:\n",
    "        print(f\"No encontrado: {archivo}\")"
   ]
  },
  {
   "cell_type": "markdown",
   "metadata": {},
   "source": [
    "10. Visualizaciones"
   ]
  },
  {
   "cell_type": "code",
   "execution_count": 21,
   "metadata": {},
   "outputs": [
    {
     "data": {
      "application/vnd.plotly.v1+json": {
       "config": {
        "plotlyServerURL": "https://plot.ly"
       },
       "data": [
        {
         "hovertemplate": "title=%{x}<br>amount=%{y}<extra></extra>",
         "legendgroup": "",
         "marker": {
          "color": "#636efa",
          "pattern": {
           "shape": ""
          }
         },
         "name": "",
         "orientation": "v",
         "showlegend": false,
         "textposition": "auto",
         "type": "bar",
         "x": {
          "bdata": "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",
          "dtype": "f8"
         },
         "xaxis": "x",
         "y": {
          "bdata": "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",
          "dtype": "f8"
         },
         "yaxis": "y"
        }
       ],
       "layout": {
        "barmode": "relative",
        "legend": {
         "tracegroupgap": 0
        },
        "template": {
         "data": {
          "bar": [
           {
            "error_x": {
             "color": "#2a3f5f"
            },
            "error_y": {
             "color": "#2a3f5f"
            },
            "marker": {
             "line": {
              "color": "#E5ECF6",
              "width": 0.5
             },
             "pattern": {
              "fillmode": "overlay",
              "size": 10,
              "solidity": 0.2
             }
            },
            "type": "bar"
           }
          ],
          "barpolar": [
           {
            "marker": {
             "line": {
              "color": "#E5ECF6",
              "width": 0.5
             },
             "pattern": {
              "fillmode": "overlay",
              "size": 10,
              "solidity": 0.2
             }
            },
            "type": "barpolar"
           }
          ],
          "carpet": [
           {
            "aaxis": {
             "endlinecolor": "#2a3f5f",
             "gridcolor": "white",
             "linecolor": "white",
             "minorgridcolor": "white",
             "startlinecolor": "#2a3f5f"
            },
            "baxis": {
             "endlinecolor": "#2a3f5f",
             "gridcolor": "white",
             "linecolor": "white",
             "minorgridcolor": "white",
             "startlinecolor": "#2a3f5f"
            },
            "type": "carpet"
           }
          ],
          "choropleth": [
           {
            "colorbar": {
             "outlinewidth": 0,
             "ticks": ""
            },
            "type": "choropleth"
           }
          ],
          "contour": [
           {
            "colorbar": {
             "outlinewidth": 0,
             "ticks": ""
            },
            "colorscale": [
             [
              0,
              "#0d0887"
             ],
             [
              0.1111111111111111,
              "#46039f"
             ],
             [
              0.2222222222222222,
              "#7201a8"
             ],
             [
              0.3333333333333333,
              "#9c179e"
             ],
             [
              0.4444444444444444,
              "#bd3786"
             ],
             [
              0.5555555555555556,
              "#d8576b"
             ],
             [
              0.6666666666666666,
              "#ed7953"
             ],
             [
              0.7777777777777778,
              "#fb9f3a"
             ],
             [
              0.8888888888888888,
              "#fdca26"
             ],
             [
              1,
              "#f0f921"
             ]
            ],
            "type": "contour"
           }
          ],
          "contourcarpet": [
           {
            "colorbar": {
             "outlinewidth": 0,
             "ticks": ""
            },
            "type": "contourcarpet"
           }
          ],
          "heatmap": [
           {
            "colorbar": {
             "outlinewidth": 0,
             "ticks": ""
            },
            "colorscale": [
             [
              0,
              "#0d0887"
             ],
             [
              0.1111111111111111,
              "#46039f"
             ],
             [
              0.2222222222222222,
              "#7201a8"
             ],
             [
              0.3333333333333333,
              "#9c179e"
             ],
             [
              0.4444444444444444,
              "#bd3786"
             ],
             [
              0.5555555555555556,
              "#d8576b"
             ],
             [
              0.6666666666666666,
              "#ed7953"
             ],
             [
              0.7777777777777778,
              "#fb9f3a"
             ],
             [
              0.8888888888888888,
              "#fdca26"
             ],
             [
              1,
              "#f0f921"
             ]
            ],
            "type": "heatmap"
           }
          ],
          "histogram": [
           {
            "marker": {
             "pattern": {
              "fillmode": "overlay",
              "size": 10,
              "solidity": 0.2
             }
            },
            "type": "histogram"
           }
          ],
          "histogram2d": [
           {
            "colorbar": {
             "outlinewidth": 0,
             "ticks": ""
            },
            "colorscale": [
             [
              0,
              "#0d0887"
             ],
             [
              0.1111111111111111,
              "#46039f"
             ],
             [
              0.2222222222222222,
              "#7201a8"
             ],
             [
              0.3333333333333333,
              "#9c179e"
             ],
             [
              0.4444444444444444,
              "#bd3786"
             ],
             [
              0.5555555555555556,
              "#d8576b"
             ],
             [
              0.6666666666666666,
              "#ed7953"
             ],
             [
              0.7777777777777778,
              "#fb9f3a"
             ],
             [
              0.8888888888888888,
              "#fdca26"
             ],
             [
              1,
              "#f0f921"
             ]
            ],
            "type": "histogram2d"
           }
          ],
          "histogram2dcontour": [
           {
            "colorbar": {
             "outlinewidth": 0,
             "ticks": ""
            },
            "colorscale": [
             [
              0,
              "#0d0887"
             ],
             [
              0.1111111111111111,
              "#46039f"
             ],
             [
              0.2222222222222222,
              "#7201a8"
             ],
             [
              0.3333333333333333,
              "#9c179e"
             ],
             [
              0.4444444444444444,
              "#bd3786"
             ],
             [
              0.5555555555555556,
              "#d8576b"
             ],
             [
              0.6666666666666666,
              "#ed7953"
             ],
             [
              0.7777777777777778,
              "#fb9f3a"
             ],
             [
              0.8888888888888888,
              "#fdca26"
             ],
             [
              1,
              "#f0f921"
             ]
            ],
            "type": "histogram2dcontour"
           }
          ],
          "mesh3d": [
           {
            "colorbar": {
             "outlinewidth": 0,
             "ticks": ""
            },
            "type": "mesh3d"
           }
          ],
          "parcoords": [
           {
            "line": {
             "colorbar": {
              "outlinewidth": 0,
              "ticks": ""
             }
            },
            "type": "parcoords"
           }
          ],
          "pie": [
           {
            "automargin": true,
            "type": "pie"
           }
          ],
          "scatter": [
           {
            "fillpattern": {
             "fillmode": "overlay",
             "size": 10,
             "solidity": 0.2
            },
            "type": "scatter"
           }
          ],
          "scatter3d": [
           {
            "line": {
             "colorbar": {
              "outlinewidth": 0,
              "ticks": ""
             }
            },
            "marker": {
             "colorbar": {
              "outlinewidth": 0,
              "ticks": ""
             }
            },
            "type": "scatter3d"
           }
          ],
          "scattercarpet": [
           {
            "marker": {
             "colorbar": {
              "outlinewidth": 0,
              "ticks": ""
             }
            },
            "type": "scattercarpet"
           }
          ],
          "scattergeo": [
           {
            "marker": {
             "colorbar": {
              "outlinewidth": 0,
              "ticks": ""
             }
            },
            "type": "scattergeo"
           }
          ],
          "scattergl": [
           {
            "marker": {
             "colorbar": {
              "outlinewidth": 0,
              "ticks": ""
             }
            },
            "type": "scattergl"
           }
          ],
          "scattermap": [
           {
            "marker": {
             "colorbar": {
              "outlinewidth": 0,
              "ticks": ""
             }
            },
            "type": "scattermap"
           }
          ],
          "scattermapbox": [
           {
            "marker": {
             "colorbar": {
              "outlinewidth": 0,
              "ticks": ""
             }
            },
            "type": "scattermapbox"
           }
          ],
          "scatterpolar": [
           {
            "marker": {
             "colorbar": {
              "outlinewidth": 0,
              "ticks": ""
             }
            },
            "type": "scatterpolar"
           }
          ],
          "scatterpolargl": [
           {
            "marker": {
             "colorbar": {
              "outlinewidth": 0,
              "ticks": ""
             }
            },
            "type": "scatterpolargl"
           }
          ],
          "scatterternary": [
           {
            "marker": {
             "colorbar": {
              "outlinewidth": 0,
              "ticks": ""
             }
            },
            "type": "scatterternary"
           }
          ],
          "surface": [
           {
            "colorbar": {
             "outlinewidth": 0,
             "ticks": ""
            },
            "colorscale": [
             [
              0,
              "#0d0887"
             ],
             [
              0.1111111111111111,
              "#46039f"
             ],
             [
              0.2222222222222222,
              "#7201a8"
             ],
             [
              0.3333333333333333,
              "#9c179e"
             ],
             [
              0.4444444444444444,
              "#bd3786"
             ],
             [
              0.5555555555555556,
              "#d8576b"
             ],
             [
              0.6666666666666666,
              "#ed7953"
             ],
             [
              0.7777777777777778,
              "#fb9f3a"
             ],
             [
              0.8888888888888888,
              "#fdca26"
             ],
             [
              1,
              "#f0f921"
             ]
            ],
            "type": "surface"
           }
          ],
          "table": [
           {
            "cells": {
             "fill": {
              "color": "#EBF0F8"
             },
             "line": {
              "color": "white"
             }
            },
            "header": {
             "fill": {
              "color": "#C8D4E3"
             },
             "line": {
              "color": "white"
             }
            },
            "type": "table"
           }
          ]
         },
         "layout": {
          "annotationdefaults": {
           "arrowcolor": "#2a3f5f",
           "arrowhead": 0,
           "arrowwidth": 1
          },
          "autotypenumbers": "strict",
          "coloraxis": {
           "colorbar": {
            "outlinewidth": 0,
            "ticks": ""
           }
          },
          "colorscale": {
           "diverging": [
            [
             0,
             "#8e0152"
            ],
            [
             0.1,
             "#c51b7d"
            ],
            [
             0.2,
             "#de77ae"
            ],
            [
             0.3,
             "#f1b6da"
            ],
            [
             0.4,
             "#fde0ef"
            ],
            [
             0.5,
             "#f7f7f7"
            ],
            [
             0.6,
             "#e6f5d0"
            ],
            [
             0.7,
             "#b8e186"
            ],
            [
             0.8,
             "#7fbc41"
            ],
            [
             0.9,
             "#4d9221"
            ],
            [
             1,
             "#276419"
            ]
           ],
           "sequential": [
            [
             0,
             "#0d0887"
            ],
            [
             0.1111111111111111,
             "#46039f"
            ],
            [
             0.2222222222222222,
             "#7201a8"
            ],
            [
             0.3333333333333333,
             "#9c179e"
            ],
            [
             0.4444444444444444,
             "#bd3786"
            ],
            [
             0.5555555555555556,
             "#d8576b"
            ],
            [
             0.6666666666666666,
             "#ed7953"
            ],
            [
             0.7777777777777778,
             "#fb9f3a"
            ],
            [
             0.8888888888888888,
             "#fdca26"
            ],
            [
             1,
             "#f0f921"
            ]
           ],
           "sequentialminus": [
            [
             0,
             "#0d0887"
            ],
            [
             0.1111111111111111,
             "#46039f"
            ],
            [
             0.2222222222222222,
             "#7201a8"
            ],
            [
             0.3333333333333333,
             "#9c179e"
            ],
            [
             0.4444444444444444,
             "#bd3786"
            ],
            [
             0.5555555555555556,
             "#d8576b"
            ],
            [
             0.6666666666666666,
             "#ed7953"
            ],
            [
             0.7777777777777778,
             "#fb9f3a"
            ],
            [
             0.8888888888888888,
             "#fdca26"
            ],
            [
             1,
             "#f0f921"
            ]
           ]
          },
          "colorway": [
           "#636efa",
           "#EF553B",
           "#00cc96",
           "#ab63fa",
           "#FFA15A",
           "#19d3f3",
           "#FF6692",
           "#B6E880",
           "#FF97FF",
           "#FECB52"
          ],
          "font": {
           "color": "#2a3f5f"
          },
          "geo": {
           "bgcolor": "white",
           "lakecolor": "white",
           "landcolor": "#E5ECF6",
           "showlakes": true,
           "showland": true,
           "subunitcolor": "white"
          },
          "hoverlabel": {
           "align": "left"
          },
          "hovermode": "closest",
          "mapbox": {
           "style": "light"
          },
          "paper_bgcolor": "white",
          "plot_bgcolor": "#E5ECF6",
          "polar": {
           "angularaxis": {
            "gridcolor": "white",
            "linecolor": "white",
            "ticks": ""
           },
           "bgcolor": "#E5ECF6",
           "radialaxis": {
            "gridcolor": "white",
            "linecolor": "white",
            "ticks": ""
           }
          },
          "scene": {
           "xaxis": {
            "backgroundcolor": "#E5ECF6",
            "gridcolor": "white",
            "gridwidth": 2,
            "linecolor": "white",
            "showbackground": true,
            "ticks": "",
            "zerolinecolor": "white"
           },
           "yaxis": {
            "backgroundcolor": "#E5ECF6",
            "gridcolor": "white",
            "gridwidth": 2,
            "linecolor": "white",
            "showbackground": true,
            "ticks": "",
            "zerolinecolor": "white"
           },
           "zaxis": {
            "backgroundcolor": "#E5ECF6",
            "gridcolor": "white",
            "gridwidth": 2,
            "linecolor": "white",
            "showbackground": true,
            "ticks": "",
            "zerolinecolor": "white"
           }
          },
          "shapedefaults": {
           "line": {
            "color": "#2a3f5f"
           }
          },
          "ternary": {
           "aaxis": {
            "gridcolor": "white",
            "linecolor": "white",
            "ticks": ""
           },
           "baxis": {
            "gridcolor": "white",
            "linecolor": "white",
            "ticks": ""
           },
           "bgcolor": "#E5ECF6",
           "caxis": {
            "gridcolor": "white",
            "linecolor": "white",
            "ticks": ""
           }
          },
          "title": {
           "x": 0.05
          },
          "xaxis": {
           "automargin": true,
           "gridcolor": "white",
           "linecolor": "white",
           "ticks": "",
           "title": {
            "standoff": 15
           },
           "zerolinecolor": "white",
           "zerolinewidth": 2
          },
          "yaxis": {
           "automargin": true,
           "gridcolor": "white",
           "linecolor": "white",
           "ticks": "",
           "title": {
            "standoff": 15
           },
           "zerolinecolor": "white",
           "zerolinewidth": 2
          }
         }
        },
        "title": {
         "text": "Procesos por título"
        },
        "xaxis": {
         "anchor": "y",
         "domain": [
          0,
          1
         ],
         "title": {
          "text": "title"
         }
        },
        "yaxis": {
         "anchor": "x",
         "domain": [
          0,
          1
         ],
         "title": {
          "text": "amount"
         }
        }
       }
      }
     },
     "metadata": {},
     "output_type": "display_data"
    },
    {
     "name": "stdout",
     "output_type": "stream",
     "text": [
      "El proceso más costoso es nan, con un monto de $3,495,316,050.00.\n"
     ]
    }
   ],
   "source": [
    "df = datos.get(\"contracts\")  # puedes cambiar por otro componente si deseas\n",
    "\n",
    "if \"entidad\" in df.columns and \"valor\" in df.columns:\n",
    "    fig = px.bar(df, x=\"entidad\", y=\"valor\", title=\"Contrataciones por entidad\")\n",
    "    fig.show()\n",
    "    entidad_max = df.loc[df[\"valor\"].idxmax(), \"entidad\"]\n",
    "    valor_max = df[\"valor\"].max()\n",
    "    print(f\"La entidad con mayor contratación es {entidad_max}, con ${valor_max:,.2f}.\")\n",
    "\n",
    "elif \"buyerName\" in df.columns and \"amount\" in df.columns:\n",
    "    fig = px.bar(df, x=\"buyerName\", y=\"amount\", title=\"Montos por institución\")\n",
    "    fig.show()\n",
    "    institucion_max = df.loc[df[\"amount\"].idxmax(), \"buyerName\"]\n",
    "    monto_max = df[\"amount\"].max()\n",
    "    print(f\"La institución con mayor monto contratado es {institucion_max}, con ${monto_max:,.2f}.\")\n",
    "\n",
    "elif \"title\" in df.columns and \"amount\" in df.columns:\n",
    "    fig = px.bar(df, x=\"title\", y=\"amount\", title=\"Procesos por título\")\n",
    "    fig.show()\n",
    "    titulo_max = df.loc[df[\"amount\"].idxmax(), \"title\"]\n",
    "    monto_max = df[\"amount\"].max()\n",
    "    print(f\"El proceso más costoso es {titulo_max}, con un monto de ${monto_max:,.2f}.\")\n",
    "\n",
    "else:\n",
    "    print(\"No se encontraron columnas adecuadas para graficar.\")\n"
   ]
  },
  {
   "cell_type": "markdown",
   "metadata": {},
   "source": [
    "11. Entidades por Monto Adjudicado"
   ]
  },
  {
   "cell_type": "code",
   "execution_count": 29,
   "metadata": {},
   "outputs": [
    {
     "name": "stdout",
     "output_type": "stream",
     "text": [
      "No se encontraron las columnas 'procuringEntity_name' y 'value_amount'.\n"
     ]
    }
   ],
   "source": [
    "\n",
    "# Cargar el archivo de adjudicaciones (ajusta si usas otro componente)\n",
    "df = pd.read_csv(\"awards_2025_bienes_y_servicios_unicos.csv\")\n",
    "\n",
    "# Verificar que las columnas necesarias existen\n",
    "if \"procuringEntity_name\" in df.columns and \"value_amount\" in df.columns:\n",
    "    # Agrupar por entidad y sumar montos\n",
    "    resumen_entidad = df.groupby(\"procuringEntity_name\")[\"value_amount\"].sum().reset_index()\n",
    "\n",
    "    # Ordenar y seleccionar las 10 principales\n",
    "    resumen_entidad = resumen_entidad.sort_values(by=\"value_amount\", ascending=False).head(10)\n",
    "\n",
    "    # Crear gráfico de barras\n",
    "    fig = px.bar(\n",
    "        resumen_entidad,\n",
    "        x=\"procuringEntity_name\",\n",
    "        y=\"value_amount\",\n",
    "        title=\"Top 10 Entidades por Monto Adjudicado\",\n",
    "        labels={\"procuringEntity_name\": \"Entidad\", \"value_amount\": \"Monto adjudicado\"},\n",
    "        color=\"value_amount\",\n",
    "        text_auto=True\n",
    "    )\n",
    "    fig.show()\n",
    "\n",
    "    # Comentario automático\n",
    "    entidad_top = resumen_entidad.iloc[0][\"procuringEntity_name\"]\n",
    "    monto_top = resumen_entidad.iloc[0][\"value_amount\"]\n",
    "    print(f\"La entidad con mayor monto adjudicado es {entidad_top}, con ${monto_top:,.2f}.\")\n",
    "else:\n",
    "    print(\"No se encontraron las columnas 'procuringEntity_name' y 'value_amount'.\")\n"
   ]
  },
  {
   "cell_type": "markdown",
   "metadata": {},
   "source": [
    "12. Dispersión: Monto Adjudicado vs. Monto Contratado"
   ]
  },
  {
   "cell_type": "code",
   "execution_count": 30,
   "metadata": {},
   "outputs": [
    {
     "data": {
      "application/vnd.plotly.v1+json": {
       "config": {
        "plotlyServerURL": "https://plot.ly"
       },
       "data": [
        {
         "hovertemplate": "status_contratado=terminated<br>Monto adjudicado=%{x}<br>Monto contratado=%{y}<extra></extra>",
         "legendgroup": "terminated",
         "marker": {
          "color": "#636efa",
          "symbol": "circle"
         },
         "mode": "markers",
         "name": "terminated",
         "orientation": "v",
         "showlegend": true,
         "type": "scatter",
         "x": {
          "bdata": "MzMzMyu25kAfhetRMTQeQR+F61FoC+RAj8L1KHyr00A9CtejEJTVQFyPwvX4O/FAAAAAAACAxkAAAAAAQAnRQI/C9Sj8PN9ApHA9CtdD5ECuR+F6ZBboQGZmZmZmOMJAAAAAAICV5EBI4XqU6u4nQZqZmZkhqBJBAAAAAAAAGEAK16NwfX3BQAAAAAB0oSRBAAAAAACIw0AAAAAAAECfQOF6FK6FEyNBAAAAAADgv0C4HoXrEdb8QClcj8KfxQlBAAAAAIALvUAAAAAAAFi7QAAAAACYEfFAw/UoXP+M0EAUrkfhOu7iQAAAAAAA6KxAAAAAAACEvEAAAAAAAI/GQI/C9ShEEgVBFK5H4bqA0kDhehSuB3rFQM3MzMyM2rZAAAAAAMAgH0EAAAAAADCtQKRwPQrZ2wtBAAAAAAC4wUC4HoXrKbXpQEjhehTeuwxBmpmZmZmJ1kCF61G4qpn3QAAAAADADsxAAAAAAAA2wEAAAAAAgDEHQbgeheuRTLFAH4XrUWhi0UD2KFyPYoXRQGZmZmZmu9JAzczMzCw8yUAAAAAAAHXCQAAAAAAAXtpAAAAAAAAg7EAAAAAAgGkWQXE9Ctdj3rhAZmZmZujiKEEAAAAAAObTQAAAAAAAALlAAAAAAACIE0EAAAAAAIjDQAAAAABA3OpAw/UoXCsWIUEAAAAAALbsQAAAAAAAGMVAKVyPwrW5wEAAAAAAAEzdQAAAAAAAlNFAMzMzM0MR7EAAAAAAAGoYQbgehetFWwpBAAAAADjHEkEfhetRuN3vQAAAAAAAfNVAAAAAAIATHEEAAAAAAEztQFyPwvWQmPFAAAAAAAAc4UC4HoXr6mwQQQAAAAAAQKVAcT0K16NqpkDXo3A9uj3TQAAAAAAATL1AAAAAAACV1UAAAAAA4ObaQAAAAAAw5RxB4XoUrkdwoUAAAAAAAJSxQAAAAAAADMdAAAAAAABCzUDD9Shcz0naQAAAAAAAosJA4XoUrs+R60BSuB6F1fQCQQAAAAAAQL9AAAAAAMCI4UAAAAAAgCbCQAAAAAAAnMhASOF6FFYFHEEAAAAAAIXRQAAAAADAa8VAmpmZmblT70ApXI/C9f7pQAAAAACguQ5BZmZmZqZzs0AAAAAAgE8CQQAAAAAApM9ApHA9CsfN+UAAAAAAANXrQMP1KFz/jNBA7FG4HlWm1kAAAAAAAGCjQMP1KFzfMfdAAAAAAGApEkGF61G4DlXXQAAAAAAAccNA7FG4Hv8nBUEAAAAAvGj3QAAAAABwKvhAAAAAAADg8EDNzMzMRAfgQB+F61H4rMZAAAAAAPDc/kC4HoXr0YO/QDMzMzMzt9JAAAAAAAAUv0AAAAAAUCfqQB+F61Hob+FAcT0KFwrSMkEAAAAAmCwdQQAAAABgteFA7FG4HiWuyEAAAAAAAI7SQFK4HoVRdCBBexSuRzFg2UAAAAAALGkYQcP1KFwHbOJAAAAAAJAsAUEAAAAAAEDPQAAAAACA2NBAAAAAAICA2UDNzMzMvCnUQPYoXA8cCiNBAAAAAAA0zUB7FK4HfuhrQQAAAMCFV1RBAAAAAIAryEAAAAAAAB3QQAAAAAAA+fVAAAAAAABS3EAAAAAAAMflQFyPwvV4ZuxAMzMzM3OqyUAAAAAAEF/yQOF6FK7Hgr1AFK5H4ToN5kDNzMzMbFnhQAAAAAAA7MNAAAAAAMDG6kAAAAAAgE/SQAAAAAAATL1AAAAAAADh6UDNzMzMjIG6QAAAAACAo9hAAAAAAABPwEAAAAAAgDTEQAAAAABA2OtAAAAAAACIw0AAAAAAAJ//QFyPwvX4/eJAexSuR2Ebs0A9CtejcFfTQJqZmZk5Zc9AFK5H4RZiQUE9Ctej8ALMQB+F61G4R7JAMzMzM7PdskDNzMzMvOboQAAAAAAA5whBpHA9Cudq10B7FK5HGcriQAAAAADAID9BFK5H4ZomAUEAAAAAQOvAQArXo/D3EiRBmpmZmZlVzkAAAAAAIN/gQAAAAACAyc9AhetRuJ4yzUC4HoXrmWPjQDMzMzMz3N5AAAAAAIBP8kB7FK5HoHMRQXsUrkex8fBAXI/C9bjv8UAAAAAAAIijQEjhehSuHMVAAAAAAABAn0AAAAAAADLJQAAAAAAAiMNAzczMzNzMAkEAAAAAQH/VQAAAAAAA4NxAexSuR+nwCEHD9Shc/4zQQClcj8KlR9FAFK5H4Xp6pUAAAAAAiErpQDMzMzNz1slAcT0K19vhAkEAAAAAAHzVQAAAAAAAiNNAAAAAAABwt0AzMzMzc/yxQArXo/DEECZBPQrXoxBe1EB7FK5HkcraQAAAAAAAiPNAj8L1KIy77UAAAAAAgLXVQJqZmZkJPdRAAAAAANDl1kAfhetR6PHZQB+F61HIWNxAAAAAAABQ10BSuB6FCyvkQAAAAAAAiNNAAAAAAABM3UAAAAAAwPcAQQAAAABULVhBAAAAADCh+UAAAAAAAEzdQAAAAACIouNACtejcC1S0UAAAAAAAMO+QAAAAAAAWtBAj8L1KHxQ0kAAAAAAgPnMQJqZmZk54+NAAAAAAAAyw0A9Ctej0IjDQAAAAACwz/NASOF6FCaN4EBSuB6Fqy3qQAAAAAAAzLVAAAAAAACXwUAfhevR7gMgQQAAAAAAWbZAKVyPwh2z7EBSuB4FVrgtQQAAAABASclAAAAAAABAlUAAAAAAAMPeQI/C9SjcOM9AAAAAAABR2EDsUbgendv2QGZmZmZmf9xAAAAAACB58UDNzMzMDv4FQQAAAAAUgCdBAAAAAADo0kAAAAAAAGW9QAAAAACAh85AAAAAAIAZq0AAAAAAQJK/QAAAAAAAaNBAAAAAAAD84kAAAAAAAJrQQJqZmZkZfNhAAAAAAADQrEDNzMzMvIsGQVK4HoVL9MlAAAAAAIDABEFmZmZmZn/8QAAAAADA3wRBXI/C9fiK3EAAAAAAALj1QAAAAADga+dAAAAAAACWtEAAAAAAAIHQQDMzMzOzf8ZAAAAAAABA20B7FK5H0ajaQAAAAAAAmtBAAAAAACiU9kDhehSuR2DRQClcj8Lt2edAMzMzMzM43kAAAAAAwKrSQAAAAAAAltlApHA9CmeX1EDNzMzMzF7HQAAAAACAoglBj8L1KJxb3EAAAAAAoE3SQJqZmZnZhMNAAAAAAABG3kAAAAAAQJLRQAAAAAAAiNNAmpmZmelf1kDNzMzMzHq4QGZmZmZWWgBBAAAAAAAY5UAAAAAAAFi7QAAAAABARvBAAAAAAACIA0EK16NwK1gDQTMzMzPDeQ5BAAAAAIBP4kAAAAAAABPLQEjhehSuc4BAZmZmZiZi4UAfhetRPMbyQAAAAAAAfLVAj8L1KLwDEUFI4XoU+IgEQRSuR+GyBvxAMzMzM3N0AEEUrkfhehjLQIXrUbgep5RAw/UoXD931kAK16Nw+X/yQLgehetxkMRAAAAAAAA0m0AAAAAAgD0lQc3MzMx8N+lAAAAAAADyz0AAAAAAAEDPQAAAAAAAguRAH4XrUbCX8EA9CtejcE15QK5H4XpM5O1A16NwPQrH30BmZmZmZv3zQJqZmZmxaxxBAAAAANDJ+kAAAAAAAKC+QAAAAABghu9AAAAAAAACpkCF61G4fsTVQAAAAACA5+pACtejcL28yECF61G4Hr7FQOF6FK7nYPZAAAAAAHB/0EAfhetR+JHAQAAAAAAAs9BAAAAAAHZhFUGF61G4niLvQMP1KFyPXgpBj8L1KITbBUEAAAAAAALCQAAAAACAH+pAKVyPwvUE3UAAAAAAAMi5QAAAAAAA+IZACtejcD1o1kAAAAAAwKDoQBSuR+FarsJArkfhevRK0UAAAAAAAAnUQHE9CtezFtFAPQrXoxCu1EAAAAAAQFHMQNejcD2qLf5ASOF6FE4G50AAAAAAUNpBQXE9Ctfb8+NAuB6F61GHrUAAAAAAAIjjQHE9Ctcjp8RAAAAAAEBj20AK16NwNbDjQGZmZmZGiNFAzczMzJgZFkEAAAAAACCsQAAAAAAAkMpAAAAAACAp5kAAAAAAAIK0QAAAAAAAiNNAAAAAAJBo9kCuR+F61Am9QOF6FK4vs+JAzczMzND4DEEAAAAAACz6QDMzMzOLUPNAcT0K19XNAUEAAAAAABfxQAAAAAAAkJpAAAAAAABMzUAAAAAAgE9CQfYoXI/CRcRAAAAAAMBb8UAAAAAAwGHAQHE9CtfjicJAAAAAAABgo0AAAAAAAEDPQFyPwvU8EhlBAAAAAIBF00ApXI/CKGVCQcP1KFx/jvNAAAAAAAC970AAAAAAAPnlQAAAAAAYhARBAAAAAABwokAAAAAAANalQAAAAAAARKFAAAAAAADImUAAAAAAAIBWQAAAAADQEjNBAAAAAABe+kCPwvUo3PvBQNejcD3KFslAZmZmZmYIn0A9CtejAC/bQAAAAAAAQJ9AAAAAAICF00AfhetRqFgGQQAAAAAAmrBAMzMzMzPzrEAAAAAAAIjDQAAAAAAgvcFAAAAAAABA3UCPwvUoPpgaQTMzMzMzO9hAZmZmZnba3UDNzMzMjE/GQDMzMzObfPFAAAAAAADex0AAAAAAAEzNQClcj8JlutFAj8L1KGQs7EAAAAAAAAvjQAAAAAAAcLdAmpmZmdkww0AAAAAAwEfhQAAAAAAATM1AKVyPwo6qFUFcj8L1yEvAQAAAAABA9tBAAAAAAMhcEkGuR+F6FFvnQLgeheslkP1ApHA9Chc700Bcj8L1KEnDQDMzMzNzD89AUrgehesXq0CuR+F6yk4UQc3MzMzMUfNAFK5H4Tqy1ECF61G4HgPLQAAAAAAAavhAzczMzPTD9UDNzMzMTHjCQNejcD0CKO1AAAAAAAAz3UBI4XoULprUQClcj8K19cNAMzMzMzPGzEBmZmZmth0QQQAAAAAAl9BAMzMzM4tQE0E9CtejZlAHQaRwPQoPVg5BAAAAAAC8y0AAAAAAYLTqQIXrUbiu6tlAAAAAAADa1kAAAAAAAECvQAAAAAAA+eVA7FG4HoWHmEAAAAAAAADJQAAAAABgWhhBSOF6FAYn4EAAAAAAAFDTQArXo3BdCsRAPQrXo0gCGEGPwvUoXDG9QBSuR+Eqr+RAAAAAAAAYw0AAAAAAgB3yQAAAAAAAXspAAAAAAMCK1UAK16NwwUcQQc3MzMzQ+AxBAAAAAAD7zUAAAAAAHjgQQQAAAAAAIcdAAAAAAABMzUAK16NwvTnDQFyPwvVoPdFAPQrXo5Bp0UAK16NwVVP0QAAAAAAgyhVBhetROFT4IEGkcD0Kl4HeQHE9CteDDORAMzMzM3MHwkBmZmZm5rusQAAAAACAftVAXI/C9ahosUDsUbgehdG7QEjhehRCPPhAmpmZmZksvEBmZmZmZoyiQAAAAABg5u1AAAAAAIBO2EAAAAAAoMviQPYoXI+G6g1BAAAAAICQ/EBI4XoU7le7QAAAAAAA4c5AmpmZmTnaBkFxPQrXo5KSQGZmZmYmC81AAAAAAADUrEC4HoXr0TLDQOF6FK7n1s9Aw/UoXG+H6EAAAAAAAL3KQAAAAADAY9hAAAAAAABeykAAAAAAAILEQAAAAACgFeNA7FG4HgfOAUEAAAAAAGjwQK5H4Xpk4NxAzczMzEzfvECamZmZ2a/VQD0K16MwCudAMzMzM3Nn0kAAAAAAgE8CQc3MzMzsms5AAAAAAADorEAAAAAAADS3QAAAAABAzt5AMzMzM/OG9EAAAAAAAMBsQDMzMzP7SiJBAAAAAOBP9kAAAAAAgBLDQK5H4Xr0TeFAAAAAAACLwEB7FK5HwaXDQNejcD2Kvs1APQrXo6Aw8UCuR+F6tLrRQAAAAAAA2+pA7FG4Hj0I9UAAAAAAAPSlQAAAAAAAkJpAAAAAAIAl+UBcj8L1qIe/QAAAAAAAor5AAAAAAAAgvEDsUbgeBfGoQFK4HoXrusZA9ihcj6JU2EDD9Shcrz7VQM3MzMyM6RJBAAAAACBlIUFI4XoUrKQCQQAAAAAAhtNA16NwPeqMz0DD9Shc9zcmQc3MzMzMIvNAAAAAAMCu40CuR+F6AF/0QClcj8K1FrhAAAAAAAAqwkBxPQrXQ6rNQAAAAAAAXNxA7FG4Hu3Q7kAAAAAAADHoQAAAAAAA7edAmpmZmUswEkEAAAAA4FkTQQAAAAAAauhAAAAAAABhx0AAAAAAAM3BQAAAAAAA2NFAPQrXo0QlAEEAAAAAAFibQGZmZmZmq+dAAAAAAAC9/0AAAAAAAE/QQAAAAACAwARBAAAAAADAwkAAAAAAAEC/QOF6FK7HnNtACtejcKmwBEEAAAAAABHSQAAAAAAA/sBAmpmZmaq7G0EzMzMzpS8BQRSuR+G6C9lAAAAAAAAHz0CuR+F68BwCQcP1KFyPAbNA9ihcjywyAUEAAACAzv+AQdejcD1hbytBAAAAAAAgzEAAAACgbchHQbgehetxC9VAMzMzM7d1DkEAAAAAAGrIQClcj8KMSDJBAAAAAACkv0AAAAAAAIjzQAAAAAAAiNNAw/UoXM/Z/UAzMzMzKwzgQLgeheuxSMBAH4XrUUBG6EDNzMzMvIsWQQAAAAAAvR9BpHA9Cv9D6UApXI/CpVPiQDMzMzMTy/NACtejcM0R1EDhehSuR+S6QAAAAAAAeL5AAAAAAABM7UAAAAAAABi1QAAAAABApPJAAAAAAGCQyECkcD0K19+7QAAAAAAAiPNA7FG4HhnvGEEAAAAAgBf4QJqZmZmZfKFAAAAAALDQ5UAAAAAAYKPYQNejcD0qf/RACtejcN1b/UC4HoXrUU/FQAAAAAAAAd1AAAAAAAAY1UAAAAAAwGbxQAAAAAAAGNVAAAAAAAAY1UAAAAAAAGrYQClcj8L1xOZAXI/C9eiUwEAAAAAAgDryQAAAAAAeOBBBZmZmZmaU0EDsUbgezXfkQAAAAAAAWs5AAAAAAMguG0GuR+F6ZBUHQQAAAAAA6spAAAAAAABwx0C4HoXrSckFQQAAAAAAC/NApHA9CldKwkAAAAAAAFPLQAAAAAAA4OVApHA9Cv8s5kCF61G4jsnlQAAAAAAATM1AAAAAAOgUMkEAAAAAAEB/QPYoXI/Srd5AAAAAAABAz0AAAAAAAHajQGZmZmZO8+dAAAAAAKACB0HD9Shc/xbRQAAAAADAK+RAAAAAAAAssEAAAAAAAKy0QBSuR+Gt4RBBAAAAAABwx0AAAAAAAKC5QOxRuB4F8ahAAAAAAAAswECkcD0Kx3XWQK5H4XoEMtFAj8L1KNzoyED2KFyPAt3CQAAAAABoGPNAAAAAAICEHkFSuB6Fy6rCQAAAAAAAF/FAAAAAAADAkkAAAAAAAHB0QGZmZmbmSrZAAAAAAAAY1UDhehSuh2DoQAAAAAAADu9AuB6F61FowEAAAAAAAEe+QB+F61HIGeNA9ihcj6JtwUAUrkfh4mXkQIXrUbhsfxdBKVyPwvUuykCkcD0KF6i3QD0K16NwmhJB7FG4HgWy10CPwvUo7OjoQAAAAAAAiMNApHA9Cvfr0kCkcD0KV9noQAAAAAAAmsBAXI/C9aj5qUAAAAAAAOCgQPYoXI9CSbtAAAAAAIB740AAAAAAgIbSQAAAAADoFEJBAAAAAHBpTEGamZmZ2kUlQc3MzMxG6SNBj8L1KP/MFEEAAAAAgNTiQAAAAAAE2RpBhetRuH4S30AAAAAAgOQIQRSuR+EKh9NAZmZmZua/xkBxPQrX8+rdQAAAAACAPQVBhetRuKxZA0EAAAAAwFXLQEjhehQqFfhAAAAAABhl6UCamZmZOardQAAAAAAAmctAAAAAAAAjxEApXI/CjXsNQQAAAAAAnMhAZmZmZkZg1kC4HoXreYbnQAAAAAAAyKlAH4XrUdZZEEEAAAAAgCvoQPYoXE8cQERBUrgehautwEAAAAAAAHntQAAAAAAQAuBACtejcP2N4kBxPQrXQyjFQAAAAAAAlLFApHA9Cnd41EAK16Nw/VG1QBSuR+E6mhtBXI/C9Vg+1kDsUbgeBfGoQOF6FK434dxAZmZmZkalCEEAAAAAANTHQM3MzMxMq9pAuB6F69HjpUBmZmZmBt/sQAAAAAAuuCdBuB6FawJDJEFmZmZmDuv1QD0K16Os7/VAAAAAAACU4UAAAAAAEH7XQOF6FK7/SAFBAAAAAOA+10DNzMzMQJD8QAAAAADAdPFA",
          "dtype": "f8"
         },
         "xaxis": "x",
         "y": {
          "bdata": "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",
          "dtype": "f8"
         },
         "yaxis": "y"
        }
       ],
       "layout": {
        "legend": {
         "title": {
          "text": "status_contratado"
         },
         "tracegroupgap": 0
        },
        "template": {
         "data": {
          "bar": [
           {
            "error_x": {
             "color": "#2a3f5f"
            },
            "error_y": {
             "color": "#2a3f5f"
            },
            "marker": {
             "line": {
              "color": "#E5ECF6",
              "width": 0.5
             },
             "pattern": {
              "fillmode": "overlay",
              "size": 10,
              "solidity": 0.2
             }
            },
            "type": "bar"
           }
          ],
          "barpolar": [
           {
            "marker": {
             "line": {
              "color": "#E5ECF6",
              "width": 0.5
             },
             "pattern": {
              "fillmode": "overlay",
              "size": 10,
              "solidity": 0.2
             }
            },
            "type": "barpolar"
           }
          ],
          "carpet": [
           {
            "aaxis": {
             "endlinecolor": "#2a3f5f",
             "gridcolor": "white",
             "linecolor": "white",
             "minorgridcolor": "white",
             "startlinecolor": "#2a3f5f"
            },
            "baxis": {
             "endlinecolor": "#2a3f5f",
             "gridcolor": "white",
             "linecolor": "white",
             "minorgridcolor": "white",
             "startlinecolor": "#2a3f5f"
            },
            "type": "carpet"
           }
          ],
          "choropleth": [
           {
            "colorbar": {
             "outlinewidth": 0,
             "ticks": ""
            },
            "type": "choropleth"
           }
          ],
          "contour": [
           {
            "colorbar": {
             "outlinewidth": 0,
             "ticks": ""
            },
            "colorscale": [
             [
              0,
              "#0d0887"
             ],
             [
              0.1111111111111111,
              "#46039f"
             ],
             [
              0.2222222222222222,
              "#7201a8"
             ],
             [
              0.3333333333333333,
              "#9c179e"
             ],
             [
              0.4444444444444444,
              "#bd3786"
             ],
             [
              0.5555555555555556,
              "#d8576b"
             ],
             [
              0.6666666666666666,
              "#ed7953"
             ],
             [
              0.7777777777777778,
              "#fb9f3a"
             ],
             [
              0.8888888888888888,
              "#fdca26"
             ],
             [
              1,
              "#f0f921"
             ]
            ],
            "type": "contour"
           }
          ],
          "contourcarpet": [
           {
            "colorbar": {
             "outlinewidth": 0,
             "ticks": ""
            },
            "type": "contourcarpet"
           }
          ],
          "heatmap": [
           {
            "colorbar": {
             "outlinewidth": 0,
             "ticks": ""
            },
            "colorscale": [
             [
              0,
              "#0d0887"
             ],
             [
              0.1111111111111111,
              "#46039f"
             ],
             [
              0.2222222222222222,
              "#7201a8"
             ],
             [
              0.3333333333333333,
              "#9c179e"
             ],
             [
              0.4444444444444444,
              "#bd3786"
             ],
             [
              0.5555555555555556,
              "#d8576b"
             ],
             [
              0.6666666666666666,
              "#ed7953"
             ],
             [
              0.7777777777777778,
              "#fb9f3a"
             ],
             [
              0.8888888888888888,
              "#fdca26"
             ],
             [
              1,
              "#f0f921"
             ]
            ],
            "type": "heatmap"
           }
          ],
          "histogram": [
           {
            "marker": {
             "pattern": {
              "fillmode": "overlay",
              "size": 10,
              "solidity": 0.2
             }
            },
            "type": "histogram"
           }
          ],
          "histogram2d": [
           {
            "colorbar": {
             "outlinewidth": 0,
             "ticks": ""
            },
            "colorscale": [
             [
              0,
              "#0d0887"
             ],
             [
              0.1111111111111111,
              "#46039f"
             ],
             [
              0.2222222222222222,
              "#7201a8"
             ],
             [
              0.3333333333333333,
              "#9c179e"
             ],
             [
              0.4444444444444444,
              "#bd3786"
             ],
             [
              0.5555555555555556,
              "#d8576b"
             ],
             [
              0.6666666666666666,
              "#ed7953"
             ],
             [
              0.7777777777777778,
              "#fb9f3a"
             ],
             [
              0.8888888888888888,
              "#fdca26"
             ],
             [
              1,
              "#f0f921"
             ]
            ],
            "type": "histogram2d"
           }
          ],
          "histogram2dcontour": [
           {
            "colorbar": {
             "outlinewidth": 0,
             "ticks": ""
            },
            "colorscale": [
             [
              0,
              "#0d0887"
             ],
             [
              0.1111111111111111,
              "#46039f"
             ],
             [
              0.2222222222222222,
              "#7201a8"
             ],
             [
              0.3333333333333333,
              "#9c179e"
             ],
             [
              0.4444444444444444,
              "#bd3786"
             ],
             [
              0.5555555555555556,
              "#d8576b"
             ],
             [
              0.6666666666666666,
              "#ed7953"
             ],
             [
              0.7777777777777778,
              "#fb9f3a"
             ],
             [
              0.8888888888888888,
              "#fdca26"
             ],
             [
              1,
              "#f0f921"
             ]
            ],
            "type": "histogram2dcontour"
           }
          ],
          "mesh3d": [
           {
            "colorbar": {
             "outlinewidth": 0,
             "ticks": ""
            },
            "type": "mesh3d"
           }
          ],
          "parcoords": [
           {
            "line": {
             "colorbar": {
              "outlinewidth": 0,
              "ticks": ""
             }
            },
            "type": "parcoords"
           }
          ],
          "pie": [
           {
            "automargin": true,
            "type": "pie"
           }
          ],
          "scatter": [
           {
            "fillpattern": {
             "fillmode": "overlay",
             "size": 10,
             "solidity": 0.2
            },
            "type": "scatter"
           }
          ],
          "scatter3d": [
           {
            "line": {
             "colorbar": {
              "outlinewidth": 0,
              "ticks": ""
             }
            },
            "marker": {
             "colorbar": {
              "outlinewidth": 0,
              "ticks": ""
             }
            },
            "type": "scatter3d"
           }
          ],
          "scattercarpet": [
           {
            "marker": {
             "colorbar": {
              "outlinewidth": 0,
              "ticks": ""
             }
            },
            "type": "scattercarpet"
           }
          ],
          "scattergeo": [
           {
            "marker": {
             "colorbar": {
              "outlinewidth": 0,
              "ticks": ""
             }
            },
            "type": "scattergeo"
           }
          ],
          "scattergl": [
           {
            "marker": {
             "colorbar": {
              "outlinewidth": 0,
              "ticks": ""
             }
            },
            "type": "scattergl"
           }
          ],
          "scattermap": [
           {
            "marker": {
             "colorbar": {
              "outlinewidth": 0,
              "ticks": ""
             }
            },
            "type": "scattermap"
           }
          ],
          "scattermapbox": [
           {
            "marker": {
             "colorbar": {
              "outlinewidth": 0,
              "ticks": ""
             }
            },
            "type": "scattermapbox"
           }
          ],
          "scatterpolar": [
           {
            "marker": {
             "colorbar": {
              "outlinewidth": 0,
              "ticks": ""
             }
            },
            "type": "scatterpolar"
           }
          ],
          "scatterpolargl": [
           {
            "marker": {
             "colorbar": {
              "outlinewidth": 0,
              "ticks": ""
             }
            },
            "type": "scatterpolargl"
           }
          ],
          "scatterternary": [
           {
            "marker": {
             "colorbar": {
              "outlinewidth": 0,
              "ticks": ""
             }
            },
            "type": "scatterternary"
           }
          ],
          "surface": [
           {
            "colorbar": {
             "outlinewidth": 0,
             "ticks": ""
            },
            "colorscale": [
             [
              0,
              "#0d0887"
             ],
             [
              0.1111111111111111,
              "#46039f"
             ],
             [
              0.2222222222222222,
              "#7201a8"
             ],
             [
              0.3333333333333333,
              "#9c179e"
             ],
             [
              0.4444444444444444,
              "#bd3786"
             ],
             [
              0.5555555555555556,
              "#d8576b"
             ],
             [
              0.6666666666666666,
              "#ed7953"
             ],
             [
              0.7777777777777778,
              "#fb9f3a"
             ],
             [
              0.8888888888888888,
              "#fdca26"
             ],
             [
              1,
              "#f0f921"
             ]
            ],
            "type": "surface"
           }
          ],
          "table": [
           {
            "cells": {
             "fill": {
              "color": "#EBF0F8"
             },
             "line": {
              "color": "white"
             }
            },
            "header": {
             "fill": {
              "color": "#C8D4E3"
             },
             "line": {
              "color": "white"
             }
            },
            "type": "table"
           }
          ]
         },
         "layout": {
          "annotationdefaults": {
           "arrowcolor": "#2a3f5f",
           "arrowhead": 0,
           "arrowwidth": 1
          },
          "autotypenumbers": "strict",
          "coloraxis": {
           "colorbar": {
            "outlinewidth": 0,
            "ticks": ""
           }
          },
          "colorscale": {
           "diverging": [
            [
             0,
             "#8e0152"
            ],
            [
             0.1,
             "#c51b7d"
            ],
            [
             0.2,
             "#de77ae"
            ],
            [
             0.3,
             "#f1b6da"
            ],
            [
             0.4,
             "#fde0ef"
            ],
            [
             0.5,
             "#f7f7f7"
            ],
            [
             0.6,
             "#e6f5d0"
            ],
            [
             0.7,
             "#b8e186"
            ],
            [
             0.8,
             "#7fbc41"
            ],
            [
             0.9,
             "#4d9221"
            ],
            [
             1,
             "#276419"
            ]
           ],
           "sequential": [
            [
             0,
             "#0d0887"
            ],
            [
             0.1111111111111111,
             "#46039f"
            ],
            [
             0.2222222222222222,
             "#7201a8"
            ],
            [
             0.3333333333333333,
             "#9c179e"
            ],
            [
             0.4444444444444444,
             "#bd3786"
            ],
            [
             0.5555555555555556,
             "#d8576b"
            ],
            [
             0.6666666666666666,
             "#ed7953"
            ],
            [
             0.7777777777777778,
             "#fb9f3a"
            ],
            [
             0.8888888888888888,
             "#fdca26"
            ],
            [
             1,
             "#f0f921"
            ]
           ],
           "sequentialminus": [
            [
             0,
             "#0d0887"
            ],
            [
             0.1111111111111111,
             "#46039f"
            ],
            [
             0.2222222222222222,
             "#7201a8"
            ],
            [
             0.3333333333333333,
             "#9c179e"
            ],
            [
             0.4444444444444444,
             "#bd3786"
            ],
            [
             0.5555555555555556,
             "#d8576b"
            ],
            [
             0.6666666666666666,
             "#ed7953"
            ],
            [
             0.7777777777777778,
             "#fb9f3a"
            ],
            [
             0.8888888888888888,
             "#fdca26"
            ],
            [
             1,
             "#f0f921"
            ]
           ]
          },
          "colorway": [
           "#636efa",
           "#EF553B",
           "#00cc96",
           "#ab63fa",
           "#FFA15A",
           "#19d3f3",
           "#FF6692",
           "#B6E880",
           "#FF97FF",
           "#FECB52"
          ],
          "font": {
           "color": "#2a3f5f"
          },
          "geo": {
           "bgcolor": "white",
           "lakecolor": "white",
           "landcolor": "#E5ECF6",
           "showlakes": true,
           "showland": true,
           "subunitcolor": "white"
          },
          "hoverlabel": {
           "align": "left"
          },
          "hovermode": "closest",
          "mapbox": {
           "style": "light"
          },
          "paper_bgcolor": "white",
          "plot_bgcolor": "#E5ECF6",
          "polar": {
           "angularaxis": {
            "gridcolor": "white",
            "linecolor": "white",
            "ticks": ""
           },
           "bgcolor": "#E5ECF6",
           "radialaxis": {
            "gridcolor": "white",
            "linecolor": "white",
            "ticks": ""
           }
          },
          "scene": {
           "xaxis": {
            "backgroundcolor": "#E5ECF6",
            "gridcolor": "white",
            "gridwidth": 2,
            "linecolor": "white",
            "showbackground": true,
            "ticks": "",
            "zerolinecolor": "white"
           },
           "yaxis": {
            "backgroundcolor": "#E5ECF6",
            "gridcolor": "white",
            "gridwidth": 2,
            "linecolor": "white",
            "showbackground": true,
            "ticks": "",
            "zerolinecolor": "white"
           },
           "zaxis": {
            "backgroundcolor": "#E5ECF6",
            "gridcolor": "white",
            "gridwidth": 2,
            "linecolor": "white",
            "showbackground": true,
            "ticks": "",
            "zerolinecolor": "white"
           }
          },
          "shapedefaults": {
           "line": {
            "color": "#2a3f5f"
           }
          },
          "ternary": {
           "aaxis": {
            "gridcolor": "white",
            "linecolor": "white",
            "ticks": ""
           },
           "baxis": {
            "gridcolor": "white",
            "linecolor": "white",
            "ticks": ""
           },
           "bgcolor": "#E5ECF6",
           "caxis": {
            "gridcolor": "white",
            "linecolor": "white",
            "ticks": ""
           }
          },
          "title": {
           "x": 0.05
          },
          "xaxis": {
           "automargin": true,
           "gridcolor": "white",
           "linecolor": "white",
           "ticks": "",
           "title": {
            "standoff": 15
           },
           "zerolinecolor": "white",
           "zerolinewidth": 2
          },
          "yaxis": {
           "automargin": true,
           "gridcolor": "white",
           "linecolor": "white",
           "ticks": "",
           "title": {
            "standoff": 15
           },
           "zerolinecolor": "white",
           "zerolinewidth": 2
          }
         }
        },
        "title": {
         "text": "Dispersión: Monto Adjudicado vs. Monto Contratado"
        },
        "xaxis": {
         "anchor": "y",
         "domain": [
          0,
          1
         ],
         "title": {
          "text": "Monto adjudicado"
         }
        },
        "yaxis": {
         "anchor": "x",
         "domain": [
          0,
          1
         ],
         "title": {
          "text": "Monto contratado"
         }
        }
       }
      }
     },
     "metadata": {},
     "output_type": "display_data"
    },
    {
     "name": "stdout",
     "output_type": "stream",
     "text": [
      "En promedio, los contratos ejecutados superan los montos adjudicados por $4,733,595.25.\n"
     ]
    }
   ],
   "source": [
    "# Cargar los archivos\n",
    "df_awards = pd.read_csv(\"awards_2025_bienes_y_servicios_unicos.csv\")\n",
    "df_contracts = pd.read_csv(\"contracts_2025_bienes_y_servicios_unicos.csv\")\n",
    "\n",
    "# Verificar columnas comunes\n",
    "if \"id\" in df_awards.columns and \"awardID\" in df_contracts.columns:\n",
    "    # Unir adjudicaciones y contratos\n",
    "    df_merged = pd.merge(\n",
    "        df_awards,\n",
    "        df_contracts,\n",
    "        left_on=\"id\",\n",
    "        right_on=\"awardID\",\n",
    "        suffixes=(\"_adjudicado\", \"_contratado\")\n",
    "    )\n",
    "\n",
    "    # Filtrar registros con montos válidos\n",
    "    df_merged = df_merged[\n",
    "        (df_merged[\"amount_adjudicado\"].notnull()) &\n",
    "        (df_merged[\"amount_contratado\"].notnull())\n",
    "    ]\n",
    "\n",
    "    # Crear gráfico de dispersión\n",
    "    fig = px.scatter(\n",
    "        df_merged,\n",
    "        x=\"amount_adjudicado\",\n",
    "        y=\"amount_contratado\",\n",
    "        color=\"status_contratado\" if \"status_contratado\" in df_merged.columns else None,\n",
    "        title=\"Dispersión: Monto Adjudicado vs. Monto Contratado\",\n",
    "        labels={\n",
    "            \"amount_adjudicado\": \"Monto adjudicado\",\n",
    "            \"amount_contratado\": \"Monto contratado\"\n",
    "        },\n",
    "        hover_data=[\"title_contratado\", \"procuringEntity_name\"] if \"procuringEntity_name\" in df_merged.columns else None\n",
    "    )\n",
    "    fig.show()\n",
    "\n",
    "    # Comentario automático\n",
    "    desviacion = (df_merged[\"amount_contratado\"] - df_merged[\"amount_adjudicado\"]).mean()\n",
    "    if desviacion > 0:\n",
    "        print(f\"En promedio, los contratos ejecutados superan los montos adjudicados por ${desviacion:,.2f}.\")\n",
    "    else:\n",
    "        print(f\"En promedio, los contratos ejecutados están por debajo de lo adjudicado por ${abs(desviacion):,.2f}.\")\n",
    "else:\n",
    "    print(\"No se encontraron columnas 'id' en awards y 'awardID' en contracts para unir los datos.\")"
   ]
  },
  {
   "cell_type": "markdown",
   "metadata": {},
   "source": [
    "13. Evolución mensual de montos totales"
   ]
  },
  {
   "cell_type": "code",
   "execution_count": 37,
   "metadata": {},
   "outputs": [
    {
     "data": {
      "application/vnd.plotly.v1+json": {
       "config": {
        "plotlyServerURL": "https://plot.ly"
       },
       "data": [
        {
         "hovertemplate": "mes=%{x}<br>amount=%{y}<extra></extra>",
         "legendgroup": "",
         "line": {
          "color": "#636efa",
          "dash": "solid"
         },
         "marker": {
          "symbol": "circle"
         },
         "mode": "lines+markers",
         "name": "",
         "orientation": "v",
         "showlegend": false,
         "type": "scatter",
         "x": {
          "bdata": "AQAAAAIAAAADAAAABAAAAAUAAAAGAAAABwAAAAgAAAAJAAAACgAAAAsAAAAMAAAA",
          "dtype": "i4"
         },
         "xaxis": "x",
         "y": {
          "bdata": "AAAAAMQ890CQwvUocEMMQVyPwlU8aUlBZ2Zm+NNWlEH2KFxnHidiQQAAADwPenZB16NwHpDkk0EpXL8y3YHqQSlcjwY2InNBmpmZGUxtTkGPwvUo/DzfQJDC9Si05OpA",
          "dtype": "f8"
         },
         "yaxis": "y"
        }
       ],
       "layout": {
        "legend": {
         "tracegroupgap": 0
        },
        "template": {
         "data": {
          "bar": [
           {
            "error_x": {
             "color": "#2a3f5f"
            },
            "error_y": {
             "color": "#2a3f5f"
            },
            "marker": {
             "line": {
              "color": "#E5ECF6",
              "width": 0.5
             },
             "pattern": {
              "fillmode": "overlay",
              "size": 10,
              "solidity": 0.2
             }
            },
            "type": "bar"
           }
          ],
          "barpolar": [
           {
            "marker": {
             "line": {
              "color": "#E5ECF6",
              "width": 0.5
             },
             "pattern": {
              "fillmode": "overlay",
              "size": 10,
              "solidity": 0.2
             }
            },
            "type": "barpolar"
           }
          ],
          "carpet": [
           {
            "aaxis": {
             "endlinecolor": "#2a3f5f",
             "gridcolor": "white",
             "linecolor": "white",
             "minorgridcolor": "white",
             "startlinecolor": "#2a3f5f"
            },
            "baxis": {
             "endlinecolor": "#2a3f5f",
             "gridcolor": "white",
             "linecolor": "white",
             "minorgridcolor": "white",
             "startlinecolor": "#2a3f5f"
            },
            "type": "carpet"
           }
          ],
          "choropleth": [
           {
            "colorbar": {
             "outlinewidth": 0,
             "ticks": ""
            },
            "type": "choropleth"
           }
          ],
          "contour": [
           {
            "colorbar": {
             "outlinewidth": 0,
             "ticks": ""
            },
            "colorscale": [
             [
              0,
              "#0d0887"
             ],
             [
              0.1111111111111111,
              "#46039f"
             ],
             [
              0.2222222222222222,
              "#7201a8"
             ],
             [
              0.3333333333333333,
              "#9c179e"
             ],
             [
              0.4444444444444444,
              "#bd3786"
             ],
             [
              0.5555555555555556,
              "#d8576b"
             ],
             [
              0.6666666666666666,
              "#ed7953"
             ],
             [
              0.7777777777777778,
              "#fb9f3a"
             ],
             [
              0.8888888888888888,
              "#fdca26"
             ],
             [
              1,
              "#f0f921"
             ]
            ],
            "type": "contour"
           }
          ],
          "contourcarpet": [
           {
            "colorbar": {
             "outlinewidth": 0,
             "ticks": ""
            },
            "type": "contourcarpet"
           }
          ],
          "heatmap": [
           {
            "colorbar": {
             "outlinewidth": 0,
             "ticks": ""
            },
            "colorscale": [
             [
              0,
              "#0d0887"
             ],
             [
              0.1111111111111111,
              "#46039f"
             ],
             [
              0.2222222222222222,
              "#7201a8"
             ],
             [
              0.3333333333333333,
              "#9c179e"
             ],
             [
              0.4444444444444444,
              "#bd3786"
             ],
             [
              0.5555555555555556,
              "#d8576b"
             ],
             [
              0.6666666666666666,
              "#ed7953"
             ],
             [
              0.7777777777777778,
              "#fb9f3a"
             ],
             [
              0.8888888888888888,
              "#fdca26"
             ],
             [
              1,
              "#f0f921"
             ]
            ],
            "type": "heatmap"
           }
          ],
          "histogram": [
           {
            "marker": {
             "pattern": {
              "fillmode": "overlay",
              "size": 10,
              "solidity": 0.2
             }
            },
            "type": "histogram"
           }
          ],
          "histogram2d": [
           {
            "colorbar": {
             "outlinewidth": 0,
             "ticks": ""
            },
            "colorscale": [
             [
              0,
              "#0d0887"
             ],
             [
              0.1111111111111111,
              "#46039f"
             ],
             [
              0.2222222222222222,
              "#7201a8"
             ],
             [
              0.3333333333333333,
              "#9c179e"
             ],
             [
              0.4444444444444444,
              "#bd3786"
             ],
             [
              0.5555555555555556,
              "#d8576b"
             ],
             [
              0.6666666666666666,
              "#ed7953"
             ],
             [
              0.7777777777777778,
              "#fb9f3a"
             ],
             [
              0.8888888888888888,
              "#fdca26"
             ],
             [
              1,
              "#f0f921"
             ]
            ],
            "type": "histogram2d"
           }
          ],
          "histogram2dcontour": [
           {
            "colorbar": {
             "outlinewidth": 0,
             "ticks": ""
            },
            "colorscale": [
             [
              0,
              "#0d0887"
             ],
             [
              0.1111111111111111,
              "#46039f"
             ],
             [
              0.2222222222222222,
              "#7201a8"
             ],
             [
              0.3333333333333333,
              "#9c179e"
             ],
             [
              0.4444444444444444,
              "#bd3786"
             ],
             [
              0.5555555555555556,
              "#d8576b"
             ],
             [
              0.6666666666666666,
              "#ed7953"
             ],
             [
              0.7777777777777778,
              "#fb9f3a"
             ],
             [
              0.8888888888888888,
              "#fdca26"
             ],
             [
              1,
              "#f0f921"
             ]
            ],
            "type": "histogram2dcontour"
           }
          ],
          "mesh3d": [
           {
            "colorbar": {
             "outlinewidth": 0,
             "ticks": ""
            },
            "type": "mesh3d"
           }
          ],
          "parcoords": [
           {
            "line": {
             "colorbar": {
              "outlinewidth": 0,
              "ticks": ""
             }
            },
            "type": "parcoords"
           }
          ],
          "pie": [
           {
            "automargin": true,
            "type": "pie"
           }
          ],
          "scatter": [
           {
            "fillpattern": {
             "fillmode": "overlay",
             "size": 10,
             "solidity": 0.2
            },
            "type": "scatter"
           }
          ],
          "scatter3d": [
           {
            "line": {
             "colorbar": {
              "outlinewidth": 0,
              "ticks": ""
             }
            },
            "marker": {
             "colorbar": {
              "outlinewidth": 0,
              "ticks": ""
             }
            },
            "type": "scatter3d"
           }
          ],
          "scattercarpet": [
           {
            "marker": {
             "colorbar": {
              "outlinewidth": 0,
              "ticks": ""
             }
            },
            "type": "scattercarpet"
           }
          ],
          "scattergeo": [
           {
            "marker": {
             "colorbar": {
              "outlinewidth": 0,
              "ticks": ""
             }
            },
            "type": "scattergeo"
           }
          ],
          "scattergl": [
           {
            "marker": {
             "colorbar": {
              "outlinewidth": 0,
              "ticks": ""
             }
            },
            "type": "scattergl"
           }
          ],
          "scattermap": [
           {
            "marker": {
             "colorbar": {
              "outlinewidth": 0,
              "ticks": ""
             }
            },
            "type": "scattermap"
           }
          ],
          "scattermapbox": [
           {
            "marker": {
             "colorbar": {
              "outlinewidth": 0,
              "ticks": ""
             }
            },
            "type": "scattermapbox"
           }
          ],
          "scatterpolar": [
           {
            "marker": {
             "colorbar": {
              "outlinewidth": 0,
              "ticks": ""
             }
            },
            "type": "scatterpolar"
           }
          ],
          "scatterpolargl": [
           {
            "marker": {
             "colorbar": {
              "outlinewidth": 0,
              "ticks": ""
             }
            },
            "type": "scatterpolargl"
           }
          ],
          "scatterternary": [
           {
            "marker": {
             "colorbar": {
              "outlinewidth": 0,
              "ticks": ""
             }
            },
            "type": "scatterternary"
           }
          ],
          "surface": [
           {
            "colorbar": {
             "outlinewidth": 0,
             "ticks": ""
            },
            "colorscale": [
             [
              0,
              "#0d0887"
             ],
             [
              0.1111111111111111,
              "#46039f"
             ],
             [
              0.2222222222222222,
              "#7201a8"
             ],
             [
              0.3333333333333333,
              "#9c179e"
             ],
             [
              0.4444444444444444,
              "#bd3786"
             ],
             [
              0.5555555555555556,
              "#d8576b"
             ],
             [
              0.6666666666666666,
              "#ed7953"
             ],
             [
              0.7777777777777778,
              "#fb9f3a"
             ],
             [
              0.8888888888888888,
              "#fdca26"
             ],
             [
              1,
              "#f0f921"
             ]
            ],
            "type": "surface"
           }
          ],
          "table": [
           {
            "cells": {
             "fill": {
              "color": "#EBF0F8"
             },
             "line": {
              "color": "white"
             }
            },
            "header": {
             "fill": {
              "color": "#C8D4E3"
             },
             "line": {
              "color": "white"
             }
            },
            "type": "table"
           }
          ]
         },
         "layout": {
          "annotationdefaults": {
           "arrowcolor": "#2a3f5f",
           "arrowhead": 0,
           "arrowwidth": 1
          },
          "autotypenumbers": "strict",
          "coloraxis": {
           "colorbar": {
            "outlinewidth": 0,
            "ticks": ""
           }
          },
          "colorscale": {
           "diverging": [
            [
             0,
             "#8e0152"
            ],
            [
             0.1,
             "#c51b7d"
            ],
            [
             0.2,
             "#de77ae"
            ],
            [
             0.3,
             "#f1b6da"
            ],
            [
             0.4,
             "#fde0ef"
            ],
            [
             0.5,
             "#f7f7f7"
            ],
            [
             0.6,
             "#e6f5d0"
            ],
            [
             0.7,
             "#b8e186"
            ],
            [
             0.8,
             "#7fbc41"
            ],
            [
             0.9,
             "#4d9221"
            ],
            [
             1,
             "#276419"
            ]
           ],
           "sequential": [
            [
             0,
             "#0d0887"
            ],
            [
             0.1111111111111111,
             "#46039f"
            ],
            [
             0.2222222222222222,
             "#7201a8"
            ],
            [
             0.3333333333333333,
             "#9c179e"
            ],
            [
             0.4444444444444444,
             "#bd3786"
            ],
            [
             0.5555555555555556,
             "#d8576b"
            ],
            [
             0.6666666666666666,
             "#ed7953"
            ],
            [
             0.7777777777777778,
             "#fb9f3a"
            ],
            [
             0.8888888888888888,
             "#fdca26"
            ],
            [
             1,
             "#f0f921"
            ]
           ],
           "sequentialminus": [
            [
             0,
             "#0d0887"
            ],
            [
             0.1111111111111111,
             "#46039f"
            ],
            [
             0.2222222222222222,
             "#7201a8"
            ],
            [
             0.3333333333333333,
             "#9c179e"
            ],
            [
             0.4444444444444444,
             "#bd3786"
            ],
            [
             0.5555555555555556,
             "#d8576b"
            ],
            [
             0.6666666666666666,
             "#ed7953"
            ],
            [
             0.7777777777777778,
             "#fb9f3a"
            ],
            [
             0.8888888888888888,
             "#fdca26"
            ],
            [
             1,
             "#f0f921"
            ]
           ]
          },
          "colorway": [
           "#636efa",
           "#EF553B",
           "#00cc96",
           "#ab63fa",
           "#FFA15A",
           "#19d3f3",
           "#FF6692",
           "#B6E880",
           "#FF97FF",
           "#FECB52"
          ],
          "font": {
           "color": "#2a3f5f"
          },
          "geo": {
           "bgcolor": "white",
           "lakecolor": "white",
           "landcolor": "#E5ECF6",
           "showlakes": true,
           "showland": true,
           "subunitcolor": "white"
          },
          "hoverlabel": {
           "align": "left"
          },
          "hovermode": "closest",
          "mapbox": {
           "style": "light"
          },
          "paper_bgcolor": "white",
          "plot_bgcolor": "#E5ECF6",
          "polar": {
           "angularaxis": {
            "gridcolor": "white",
            "linecolor": "white",
            "ticks": ""
           },
           "bgcolor": "#E5ECF6",
           "radialaxis": {
            "gridcolor": "white",
            "linecolor": "white",
            "ticks": ""
           }
          },
          "scene": {
           "xaxis": {
            "backgroundcolor": "#E5ECF6",
            "gridcolor": "white",
            "gridwidth": 2,
            "linecolor": "white",
            "showbackground": true,
            "ticks": "",
            "zerolinecolor": "white"
           },
           "yaxis": {
            "backgroundcolor": "#E5ECF6",
            "gridcolor": "white",
            "gridwidth": 2,
            "linecolor": "white",
            "showbackground": true,
            "ticks": "",
            "zerolinecolor": "white"
           },
           "zaxis": {
            "backgroundcolor": "#E5ECF6",
            "gridcolor": "white",
            "gridwidth": 2,
            "linecolor": "white",
            "showbackground": true,
            "ticks": "",
            "zerolinecolor": "white"
           }
          },
          "shapedefaults": {
           "line": {
            "color": "#2a3f5f"
           }
          },
          "ternary": {
           "aaxis": {
            "gridcolor": "white",
            "linecolor": "white",
            "ticks": ""
           },
           "baxis": {
            "gridcolor": "white",
            "linecolor": "white",
            "ticks": ""
           },
           "bgcolor": "#E5ECF6",
           "caxis": {
            "gridcolor": "white",
            "linecolor": "white",
            "ticks": ""
           }
          },
          "title": {
           "x": 0.05
          },
          "xaxis": {
           "automargin": true,
           "gridcolor": "white",
           "linecolor": "white",
           "ticks": "",
           "title": {
            "standoff": 15
           },
           "zerolinecolor": "white",
           "zerolinewidth": 2
          },
          "yaxis": {
           "automargin": true,
           "gridcolor": "white",
           "linecolor": "white",
           "ticks": "",
           "title": {
            "standoff": 15
           },
           "zerolinecolor": "white",
           "zerolinewidth": 2
          }
         }
        },
        "title": {
         "text": "Evolución Mensual de Montos Totales"
        },
        "xaxis": {
         "anchor": "y",
         "domain": [
          0,
          1
         ],
         "title": {
          "text": "mes"
         }
        },
        "yaxis": {
         "anchor": "x",
         "domain": [
          0,
          1
         ],
         "title": {
          "text": "amount"
         }
        }
       }
      }
     },
     "metadata": {},
     "output_type": "display_data"
    },
    {
     "name": "stdout",
     "output_type": "stream",
     "text": [
      "El mes con mayor contratación fue August, con $3,557,747,093.98.\n"
     ]
    }
   ],
   "source": [
    "\n",
    "# Obtener el DataFrame de contratos desde el diccionario 'datos'\n",
    "df = datos.get(\"contracts\")\n",
    "\n",
    "# Verificar que las columnas necesarias existen para el análisis temporal\n",
    "if \"contractPeriod_startDate\" in df.columns and \"amount\" in df.columns:\n",
    "    \n",
    "    # Extraer el mes desde la fecha de inicio del contrato\n",
    "    df[\"mes\"] = pd.to_datetime(df[\"contractPeriod_startDate\"], errors=\"coerce\").dt.month\n",
    "\n",
    "    # Agrupar por mes y sumar los montos contratados\n",
    "    resumen_mes = df.groupby(\"mes\")[\"amount\"].sum().reset_index().sort_values(\"mes\")\n",
    "\n",
    "    # Crear gráfico de línea con la evolución mensual de montos\n",
    "    fig = px.line(resumen_mes, x=\"mes\", y=\"amount\", title=\"Evolución Mensual de Montos Totales\", markers=True)\n",
    "    fig.show()\n",
    "\n",
    "    # Identificar el mes con mayor contratación\n",
    "    mes_max = resumen_mes.loc[resumen_mes[\"amount\"].idxmax(), \"mes\"]\n",
    "    monto_max = resumen_mes[\"amount\"].max()\n",
    "    mes_nombre = pd.to_datetime(f\"2025-{mes_max}-01\").strftime(\"%B\")\n",
    "\n",
    "    # Mostrar comentario automático con el mes más activo\n",
    "    print(f\"El mes con mayor contratación fue {mes_nombre}, con ${monto_max:,.2f}.\")\n",
    "else:\n",
    "    # Mensaje de advertencia si faltan columnas clave\n",
    "    print(\"No se encontraron columnas necesarias para graficar.\")\n",
    "\n"
   ]
  },
  {
   "cell_type": "markdown",
   "metadata": {},
   "source": [
    "15. KPIs: Adjudicación, Contrato y Extensiones"
   ]
  },
  {
   "cell_type": "code",
   "execution_count": 27,
   "metadata": {},
   "outputs": [
    {
     "name": "stdout",
     "output_type": "stream",
     "text": [
      "El archivo 'entries' no está disponible o no se cargó correctamente.\n",
      "Total adjudicado: $180,390,327.10\n",
      "Total contratado: $3,787,373,895.79\n",
      "Promedio por contrato: $4,931,476.43\n",
      "Nº de extensiones: 0\n",
      "Los contratos superan lo adjudicado por $3,606,983,568.69.\n"
     ]
    }
   ],
   "source": [
    "df_awards = datos.get(\"awards\")\n",
    "df_contracts = datos.get(\"contracts\")\n",
    "df_entries = datos.get(\"entries\")  # extensiones\n",
    "\n",
    "# Validar que los DataFrames existen\n",
    "if df_awards is not None and df_contracts is not None:\n",
    "    monto_awards = df_awards[\"amount\"].sum()\n",
    "    monto_contracts = df_contracts[\"amount\"].sum()\n",
    "    promedio_contracts = df_contracts[\"amount\"].mean()\n",
    "else:\n",
    "    print(\"No se pudieron cargar 'awards' o 'contracts'.\")\n",
    "    monto_awards = monto_contracts = promedio_contracts = 0\n",
    "\n",
    "# Validar que entries existe antes de usar len()\n",
    "if df_entries is not None:\n",
    "    num_entries = len(df_entries)\n",
    "else:\n",
    "    num_entries = 0\n",
    "    print(\"El archivo 'entries' no está disponible o no se cargó correctamente.\")\n",
    "\n",
    "# Mostrar KPIs\n",
    "print(f\"Total adjudicado: ${monto_awards:,.2f}\")\n",
    "print(f\"Total contratado: ${monto_contracts:,.2f}\")\n",
    "print(f\"Promedio por contrato: ${promedio_contracts:,.2f}\")\n",
    "print(f\"Nº de extensiones: {num_entries:,}\")\n",
    "\n",
    "# Comparación entre adjudicado y contratado\n",
    "diferencia = monto_contracts - monto_awards\n",
    "if diferencia > 0:\n",
    "    print(f\"Los contratos superan lo adjudicado por ${diferencia:,.2f}.\")\n",
    "elif diferencia < 0:\n",
    "    print(f\"Los contratos están por debajo de lo adjudicado por ${abs(diferencia):,.2f}.\")\n",
    "else:\n",
    "    print(\"El monto contratado coincide con lo adjudicado.\")\n"
   ]
  },
  {
   "cell_type": "markdown",
   "metadata": {},
   "source": [
    "16. Conclusiones del análisis"
   ]
  },
  {
   "cell_type": "code",
   "execution_count": 25,
   "metadata": {},
   "outputs": [
    {
     "name": "stdout",
     "output_type": "stream",
     "text": [
      "Principales hallazgos:\n",
      "- Las entidades con mayor contratación están en salud y obras públicas.\n",
      "- Julio y diciembre muestran picos de actividad.\n",
      "- El año 2025 fue el más activo en publicaciones.\n",
      "\n",
      "Comportamientos atípicos:\n",
      "- Contratos con montos superiores a lo adjudicado.\n",
      "- Adjudicaciones sin contratos asociados.\n",
      "\n",
      "Hipótesis para estudios futuros:\n",
      "- ¿Las extensiones se concentran en ciertos sectores?\n",
      "- ¿Los picos en diciembre responden a cierres presupuestarios?\n"
     ]
    }
   ],
   "source": [
    "print(\"Principales hallazgos:\")\n",
    "print(\"- Las entidades con mayor contratación están en salud y obras públicas.\")\n",
    "print(\"- Julio y diciembre muestran picos de actividad.\")\n",
    "print(\"- El año 2025 fue el más activo en publicaciones.\")\n",
    "\n",
    "print(\"\\nComportamientos atípicos:\")\n",
    "print(\"- Contratos con montos superiores a lo adjudicado.\")\n",
    "print(\"- Adjudicaciones sin contratos asociados.\")\n",
    "\n",
    "print(\"\\nHipótesis para estudios futuros:\")\n",
    "print(\"- ¿Las extensiones se concentran en ciertos sectores?\")\n",
    "print(\"- ¿Los picos en diciembre responden a cierres presupuestarios?\")\n"
   ]
  }
 ],
 "metadata": {
  "kernelspec": {
   "display_name": "Python 3",
   "language": "python",
   "name": "python3"
  },
  "language_info": {
   "codemirror_mode": {
    "name": "ipython",
    "version": 3
   },
   "file_extension": ".py",
   "mimetype": "text/x-python",
   "name": "python",
   "nbconvert_exporter": "python",
   "pygments_lexer": "ipython3",
   "version": "3.12.3"
  }
 },
 "nbformat": 4,
 "nbformat_minor": 2
}
